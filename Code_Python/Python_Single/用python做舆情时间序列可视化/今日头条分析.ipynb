{
 "cells": [
  {
   "cell_type": "code",
   "execution_count": 80,
   "metadata": {
    "collapsed": true
   },
   "outputs": [],
   "source": [
    "import pandas as pd\n",
    "jr = pd.read_excel(\"C:\\\\Users\\\\dell\\\\demo\\\\用python做舆情时间序列可视化\\\\jingritoutiao.xlsx\")"
   ]
  },
  {
   "cell_type": "code",
   "execution_count": 81,
   "metadata": {},
   "outputs": [
    {
     "data": {
      "text/html": [
       "<div>\n",
       "<style>\n",
       "    .dataframe thead tr:only-child th {\n",
       "        text-align: right;\n",
       "    }\n",
       "\n",
       "    .dataframe thead th {\n",
       "        text-align: left;\n",
       "    }\n",
       "\n",
       "    .dataframe tbody tr th {\n",
       "        vertical-align: top;\n",
       "    }\n",
       "</style>\n",
       "<table border=\"1\" class=\"dataframe\">\n",
       "  <thead>\n",
       "    <tr style=\"text-align: right;\">\n",
       "      <th></th>\n",
       "      <th>From</th>\n",
       "      <th>title</th>\n",
       "      <th>comments</th>\n",
       "      <th>date</th>\n",
       "    </tr>\n",
       "  </thead>\n",
       "  <tbody>\n",
       "    <tr>\n",
       "      <th>0</th>\n",
       "      <td>捷车科技</td>\n",
       "      <td>江歌案之罗生门</td>\n",
       "      <td>被害案昨日在东京地方法庭开庭审理。\\r\\n一.关于之前我们一直都很疑惑的问题，“刘鑫到底有没...</td>\n",
       "      <td>2017-12-12 12:20:00</td>\n",
       "    </tr>\n",
       "    <tr>\n",
       "      <th>1</th>\n",
       "      <td>馋师很苦恼</td>\n",
       "      <td>江歌案进展：录音曝光，刘鑫承认锁门</td>\n",
       "      <td>江歌案日前已经在日本开庭，庭上检方公布了报警录音，能听到门铃一直在响，刘鑫一开始用中文报警，...</td>\n",
       "      <td>2017-12-12 17:15:00</td>\n",
       "    </tr>\n",
       "    <tr>\n",
       "      <th>2</th>\n",
       "      <td>雄韬文化</td>\n",
       "      <td>江歌案，冷血的刘鑫</td>\n",
       "      <td>公众议论的江歌命案过去快一年了，但惊心的惨事好像历历在目。12月11日，江歌案在日本东京庭审...</td>\n",
       "      <td>2017-12-13 10:47:00</td>\n",
       "    </tr>\n",
       "    <tr>\n",
       "      <th>3</th>\n",
       "      <td>杰信</td>\n",
       "      <td>江歌案，刘鑫承认锁门</td>\n",
       "      <td>十二月十一日，留学生江歌遇害案在日本东京开庭，开庭第二日，日本检方公布了一段录音，报警录音中...</td>\n",
       "      <td>2017-12-14 13:40:00</td>\n",
       "    </tr>\n",
       "    <tr>\n",
       "      <th>4</th>\n",
       "      <td>经济不学人</td>\n",
       "      <td>江歌案，等不来的真相</td>\n",
       "      <td>善良的吃瓜群众都以为，随着江歌案在日本开庭，真相会逐渐浮出水面。事实是，庭审四天后，真相没有...</td>\n",
       "      <td>2017-12-15 13:29:00</td>\n",
       "    </tr>\n",
       "  </tbody>\n",
       "</table>\n",
       "</div>"
      ],
      "text/plain": [
       "    From              title  \\\n",
       "0   捷车科技            江歌案之罗生门   \n",
       "1  馋师很苦恼  江歌案进展：录音曝光，刘鑫承认锁门   \n",
       "2   雄韬文化          江歌案，冷血的刘鑫   \n",
       "3     杰信         江歌案，刘鑫承认锁门   \n",
       "4  经济不学人         江歌案，等不来的真相   \n",
       "\n",
       "                                            comments                date  \n",
       "0  被害案昨日在东京地方法庭开庭审理。\\r\\n一.关于之前我们一直都很疑惑的问题，“刘鑫到底有没... 2017-12-12 12:20:00  \n",
       "1  江歌案日前已经在日本开庭，庭上检方公布了报警录音，能听到门铃一直在响，刘鑫一开始用中文报警，... 2017-12-12 17:15:00  \n",
       "2  公众议论的江歌命案过去快一年了，但惊心的惨事好像历历在目。12月11日，江歌案在日本东京庭审... 2017-12-13 10:47:00  \n",
       "3  十二月十一日，留学生江歌遇害案在日本东京开庭，开庭第二日，日本检方公布了一段录音，报警录音中... 2017-12-14 13:40:00  \n",
       "4  善良的吃瓜群众都以为，随着江歌案在日本开庭，真相会逐渐浮出水面。事实是，庭审四天后，真相没有... 2017-12-15 13:29:00  "
      ]
     },
     "execution_count": 81,
     "metadata": {},
     "output_type": "execute_result"
    }
   ],
   "source": [
    "jr.head()"
   ]
  },
  {
   "cell_type": "code",
   "execution_count": 82,
   "metadata": {
    "collapsed": true
   },
   "outputs": [],
   "source": [
    "text = jr.comments.iloc[0]"
   ]
  },
  {
   "cell_type": "code",
   "execution_count": 83,
   "metadata": {},
   "outputs": [
    {
     "data": {
      "text/plain": [
       "0.9999999963716635"
      ]
     },
     "execution_count": 83,
     "metadata": {},
     "output_type": "execute_result"
    }
   ],
   "source": [
    "from snownlp import SnowNLP\n",
    "s = SnowNLP(text)\n",
    "s.sentiments #显示snownlp情感分析结果"
   ]
  },
  {
   "cell_type": "code",
   "execution_count": 84,
   "metadata": {
    "collapsed": true
   },
   "outputs": [],
   "source": [
    "def get_sentiment_cn(text):\n",
    "    s = SnowNLP(text)\n",
    "    return s.sentiments"
   ]
  },
  {
   "cell_type": "code",
   "execution_count": 86,
   "metadata": {
    "collapsed": true
   },
   "outputs": [],
   "source": [
    "jr[\"sentiment\"] = jr.comments.apply(get_sentiment_cn)"
   ]
  },
  {
   "cell_type": "code",
   "execution_count": 87,
   "metadata": {},
   "outputs": [
    {
     "data": {
      "text/html": [
       "<div>\n",
       "<style>\n",
       "    .dataframe thead tr:only-child th {\n",
       "        text-align: right;\n",
       "    }\n",
       "\n",
       "    .dataframe thead th {\n",
       "        text-align: left;\n",
       "    }\n",
       "\n",
       "    .dataframe tbody tr th {\n",
       "        vertical-align: top;\n",
       "    }\n",
       "</style>\n",
       "<table border=\"1\" class=\"dataframe\">\n",
       "  <thead>\n",
       "    <tr style=\"text-align: right;\">\n",
       "      <th></th>\n",
       "      <th>From</th>\n",
       "      <th>title</th>\n",
       "      <th>comments</th>\n",
       "      <th>date</th>\n",
       "      <th>sentiment</th>\n",
       "    </tr>\n",
       "  </thead>\n",
       "  <tbody>\n",
       "    <tr>\n",
       "      <th>0</th>\n",
       "      <td>捷车科技</td>\n",
       "      <td>江歌案之罗生门</td>\n",
       "      <td>被害案昨日在东京地方法庭开庭审理。\\r\\n一.关于之前我们一直都很疑惑的问题，“刘鑫到底有没...</td>\n",
       "      <td>2017-12-12 12:20:00</td>\n",
       "      <td>1.000000</td>\n",
       "    </tr>\n",
       "    <tr>\n",
       "      <th>1</th>\n",
       "      <td>馋师很苦恼</td>\n",
       "      <td>江歌案进展：录音曝光，刘鑫承认锁门</td>\n",
       "      <td>江歌案日前已经在日本开庭，庭上检方公布了报警录音，能听到门铃一直在响，刘鑫一开始用中文报警，...</td>\n",
       "      <td>2017-12-12 17:15:00</td>\n",
       "      <td>0.968987</td>\n",
       "    </tr>\n",
       "    <tr>\n",
       "      <th>2</th>\n",
       "      <td>雄韬文化</td>\n",
       "      <td>江歌案，冷血的刘鑫</td>\n",
       "      <td>公众议论的江歌命案过去快一年了，但惊心的惨事好像历历在目。12月11日，江歌案在日本东京庭审...</td>\n",
       "      <td>2017-12-13 10:47:00</td>\n",
       "      <td>1.000000</td>\n",
       "    </tr>\n",
       "    <tr>\n",
       "      <th>3</th>\n",
       "      <td>杰信</td>\n",
       "      <td>江歌案，刘鑫承认锁门</td>\n",
       "      <td>十二月十一日，留学生江歌遇害案在日本东京开庭，开庭第二日，日本检方公布了一段录音，报警录音中...</td>\n",
       "      <td>2017-12-14 13:40:00</td>\n",
       "      <td>1.000000</td>\n",
       "    </tr>\n",
       "    <tr>\n",
       "      <th>4</th>\n",
       "      <td>经济不学人</td>\n",
       "      <td>江歌案，等不来的真相</td>\n",
       "      <td>善良的吃瓜群众都以为，随着江歌案在日本开庭，真相会逐渐浮出水面。事实是，庭审四天后，真相没有...</td>\n",
       "      <td>2017-12-15 13:29:00</td>\n",
       "      <td>1.000000</td>\n",
       "    </tr>\n",
       "  </tbody>\n",
       "</table>\n",
       "</div>"
      ],
      "text/plain": [
       "    From              title  \\\n",
       "0   捷车科技            江歌案之罗生门   \n",
       "1  馋师很苦恼  江歌案进展：录音曝光，刘鑫承认锁门   \n",
       "2   雄韬文化          江歌案，冷血的刘鑫   \n",
       "3     杰信         江歌案，刘鑫承认锁门   \n",
       "4  经济不学人         江歌案，等不来的真相   \n",
       "\n",
       "                                            comments                date  \\\n",
       "0  被害案昨日在东京地方法庭开庭审理。\\r\\n一.关于之前我们一直都很疑惑的问题，“刘鑫到底有没... 2017-12-12 12:20:00   \n",
       "1  江歌案日前已经在日本开庭，庭上检方公布了报警录音，能听到门铃一直在响，刘鑫一开始用中文报警，... 2017-12-12 17:15:00   \n",
       "2  公众议论的江歌命案过去快一年了，但惊心的惨事好像历历在目。12月11日，江歌案在日本东京庭审... 2017-12-13 10:47:00   \n",
       "3  十二月十一日，留学生江歌遇害案在日本东京开庭，开庭第二日，日本检方公布了一段录音，报警录音中... 2017-12-14 13:40:00   \n",
       "4  善良的吃瓜群众都以为，随着江歌案在日本开庭，真相会逐渐浮出水面。事实是，庭审四天后，真相没有... 2017-12-15 13:29:00   \n",
       "\n",
       "   sentiment  \n",
       "0   1.000000  \n",
       "1   0.968987  \n",
       "2   1.000000  \n",
       "3   1.000000  \n",
       "4   1.000000  "
      ]
     },
     "execution_count": 87,
     "metadata": {},
     "output_type": "execute_result"
    }
   ],
   "source": [
    "jr.head()"
   ]
  },
  {
   "cell_type": "code",
   "execution_count": 88,
   "metadata": {},
   "outputs": [
    {
     "data": {
      "text/plain": [
       "0.9363848568219055"
      ]
     },
     "execution_count": 88,
     "metadata": {},
     "output_type": "execute_result"
    }
   ],
   "source": [
    "jr.sentiment.mean()"
   ]
  },
  {
   "cell_type": "code",
   "execution_count": 89,
   "metadata": {},
   "outputs": [
    {
     "data": {
      "text/plain": [
       "1.0"
      ]
     },
     "execution_count": 89,
     "metadata": {},
     "output_type": "execute_result"
    }
   ],
   "source": [
    "jr.sentiment.median()"
   ]
  },
  {
   "cell_type": "code",
   "execution_count": 90,
   "metadata": {},
   "outputs": [
    {
     "name": "stdout",
     "output_type": "stream",
     "text": [
      "Populating the interactive namespace from numpy and matplotlib\n"
     ]
    },
    {
     "name": "stderr",
     "output_type": "stream",
     "text": [
      "C:\\Users\\dell\\Anaconda3\\lib\\site-packages\\IPython\\core\\magics\\pylab.py:161: UserWarning: pylab import has clobbered these variables: ['colors', 'ylim', 'xlim', 'legend', 'text']\n",
      "`%matplotlib` prevents importing * from pylab and numpy\n",
      "  \"\\n`%matplotlib` prevents importing * from pylab and numpy\"\n"
     ]
    }
   ],
   "source": [
    "%pylab inline\n",
    "from ggplot import *\n"
   ]
  },
  {
   "cell_type": "code",
   "execution_count": 91,
   "metadata": {},
   "outputs": [
    {
     "data": {
      "image/png": "[encoded data removed]",
      "text/plain": [
       "<matplotlib.figure.Figure at 0x2868f713ef0>"
      ]
     },
     "metadata": {},
     "output_type": "display_data"
    },
    {
     "data": {
      "text/plain": [
       "<ggplot: (-9223371863295061125)>"
      ]
     },
     "execution_count": 91,
     "metadata": {},
     "output_type": "execute_result"
    }
   ],
   "source": [
    "ggplot(aes(x=\"date\",y=\"sentiment\"),data=jr) + geom_point() + geom_line(color = 'blue') + scale_x_date(labels = date_format(\"%Y-%m-%d\"))"
   ]
  },
  {
   "cell_type": "code",
   "execution_count": 92,
   "metadata": {},
   "outputs": [
    {
     "data": {
      "text/html": [
       "<div>\n",
       "<style>\n",
       "    .dataframe thead tr:only-child th {\n",
       "        text-align: right;\n",
       "    }\n",
       "\n",
       "    .dataframe thead th {\n",
       "        text-align: left;\n",
       "    }\n",
       "\n",
       "    .dataframe tbody tr th {\n",
       "        vertical-align: top;\n",
       "    }\n",
       "</style>\n",
       "<table border=\"1\" class=\"dataframe\">\n",
       "  <thead>\n",
       "    <tr style=\"text-align: right;\">\n",
       "      <th></th>\n",
       "      <th>From</th>\n",
       "      <th>title</th>\n",
       "      <th>comments</th>\n",
       "      <th>date</th>\n",
       "      <th>sentiment</th>\n",
       "    </tr>\n",
       "  </thead>\n",
       "  <tbody>\n",
       "    <tr>\n",
       "      <th>48</th>\n",
       "      <td>静如水波</td>\n",
       "      <td>江歌案：刘鑫的有些证词和行为是经不住推敲的</td>\n",
       "      <td>1.刘鑫知道陈世峰下午已经来堵过门了，晚上又发恐吓信息给刘鑫，刘鑫就是为了怕遇到陈世峰才让江...</td>\n",
       "      <td>2017-12-29 16:31:00</td>\n",
       "      <td>0.0</td>\n",
       "    </tr>\n",
       "  </tbody>\n",
       "</table>\n",
       "</div>"
      ],
      "text/plain": [
       "    From                  title  \\\n",
       "48  静如水波  江歌案：刘鑫的有些证词和行为是经不住推敲的   \n",
       "\n",
       "                                             comments                date  \\\n",
       "48  1.刘鑫知道陈世峰下午已经来堵过门了，晚上又发恐吓信息给刘鑫，刘鑫就是为了怕遇到陈世峰才让江... 2017-12-29 16:31:00   \n",
       "\n",
       "    sentiment  \n",
       "48        0.0  "
      ]
     },
     "execution_count": 92,
     "metadata": {},
     "output_type": "execute_result"
    }
   ],
   "source": [
    "jr.sort_values(['sentiment'])[:1]  #python 3"
   ]
  },
  {
   "cell_type": "code",
   "execution_count": 93,
   "metadata": {},
   "outputs": [
    {
     "name": "stdout",
     "output_type": "stream",
     "text": [
      "1.刘鑫知道陈世峰下午已经来堵过门了，晚上又发恐吓信息给刘鑫，刘鑫就是为了怕遇到陈世峰才让江歌在车站等她一起回家。按常理这个时候，刘鑫不会一个人先进门，万一门口遇到陈世峰了呢，这个机率是很大的。况且刘鑫是有预见性的，所以才让江歌陪一起回家。尤其是刘鑫到家楼下的时候，最顾虑的一定是在想陈世峰是不是在门口，而不是先换衣服。\r\n",
      "2.听见外面的参加声以后，刘鑫试图开门。但据她供述：被一股力量挡了回来。自此以后直到日本警方来，一个多小时的时间里，除了打过两次报警电话，一直在房间里坐着。。难当不是想出去看看究竟吗？俩人一起回家的，你又听到外面有声音。\r\n",
      "3.关于报警电话中：把门锁了，不要骂了。刘鑫在开庭中强调当时的话是：怎么把门锁了，不要闹了。因为这是开头的第一句话，她可能是在和门外的人说话，所以报警录音没有录全。真假不知，但在庭上刘鑫是这么说的。\r\n",
      "4.关键点：刘鑫有没有锁门？报警电话录下来的录音，警察问有没有锁门。刘鑫回答：是的，锁着， 但我姐姐在门外。这种事符合常理，人在危险的情况下保护自己是下意识的选择，如果警方在知道这种情况下，也会让你锁门，不会让你出去冒险搏斗。但是刘鑫在局面中回答江歌母亲：阿姨，我没有锁门，真的没有锁门。\r\n",
      "5.门铃声。警方的报警电话录音中，能清晰的听到门外又按门铃的声音。刘鑫却说没听到，后来改口：哪天外面下了雨，我以为是雨水敲打的声音。\r\n",
      "6.二次报警。刘鑫突然慌张起来，手机屏幕被什么点到了发出了声音，而且她也突然提高声音，慌乱急促，说姐姐危险。如果没有看到什么，没有听到什么，或者没有收到惊吓，谁会突然突然增高嗓门呢？尤其是在报警电话的时候。\r\n",
      "7.救护车。刘鑫自己没打电话叫救护车，而是在报警中让警方通知救护车。\r\n",
      "说刘鑫没看到什么，没听到什么。怕是不符合实际。\r\n",
      "因为她说她是推测江歌发生了什么，才打报警电话的。\r\n",
      "并且推测是江歌在门外遭遇了伤害。\n"
     ]
    }
   ],
   "source": [
    "print(jr.sort_values(['sentiment']).iloc[0].comments)"
   ]
  },
  {
   "cell_type": "code",
   "execution_count": null,
   "metadata": {
    "collapsed": true
   },
   "outputs": [],
   "source": []
  },
  {
   "cell_type": "code",
   "execution_count": null,
   "metadata": {
    "collapsed": true
   },
   "outputs": [],
   "source": []
  }
 ],
 "metadata": {
  "kernelspec": {
   "display_name": "Python 3",
   "language": "python",
   "name": "python3"
  },
  "language_info": {
   "codemirror_mode": {
    "name": "ipython",
    "version": 3
   },
   "file_extension": ".py",
   "mimetype": "text/x-python",
   "name": "python",
   "nbconvert_exporter": "python",
   "pygments_lexer": "ipython3",
   "version": "3.6.1"
  }
 },
 "nbformat": 4,
 "nbformat_minor": 2
}
