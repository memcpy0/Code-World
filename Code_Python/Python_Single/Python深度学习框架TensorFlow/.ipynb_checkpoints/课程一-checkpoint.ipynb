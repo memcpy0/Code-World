{
 "cells": [
  {
   "cell_type": "markdown",
   "metadata": {},
   "source": [
    "# 课程 一\n",
    "## 一、Tensorflow 基本概念\n",
    "\n",
    "     使用图（graphs）来表示计算任务；\n",
    "     \n",
    "     在被称为会话（Session）的上下文（context）中执行图；\n",
    "     \n",
    "     使用tensor表示数据；\n",
    "     \n",
    "     通过变量（Variable）来维护状态；\n",
    "     \n",
    "     使用feed和fetch可以为任意的操作赋值或者从中获得数据\n",
    "\n",
    "TensorFlow是一个编程系统，使用图（graphs）来表示计算任务，图（graphs）中的节点称之为op(operation),一个op获得0个或多个Tensor，执行计算，产生\n",
    "\n",
    "0个或多个Tensor。Tensor看作是一个n维的数组或列表。图必须在会话（Session）中启动。"
   ]
  },
  {
   "cell_type": "markdown",
   "metadata": {},
   "source": [
    "## 1-1 创建启动图"
   ]
  },
  {
   "cell_type": "code",
   "execution_count": 5,
   "metadata": {},
   "outputs": [
    {
     "name": "stdout",
     "output_type": "stream",
     "text": [
      "Tensor(\"MatMul_2:0\", shape=(1, 1), dtype=int32)\n"
     ]
    }
   ],
   "source": [
    "import tensorflow as tf\n",
    "\n",
    "m1 = tf.constant([[3,3]])  # tab键补全；创建一个一行两列的矩阵（常数）\n",
    "m2 = tf.constant([[2],[3]]) # 创建一个两行一列的矩阵（常数）\n",
    "\n",
    "product = tf.matmul(m1,m2) # 创建一个矩阵乘法op,把m1和m2传入\n",
    "\n",
    "print(product)"
   ]
  },
  {
   "cell_type": "code",
   "execution_count": 8,
   "metadata": {},
   "outputs": [
    {
     "name": "stdout",
     "output_type": "stream",
     "text": [
      "[[15]]\n"
     ]
    }
   ],
   "source": [
    "# 定义一个会话，启动默认图\n",
    "sess = tf.Session()\n",
    "\n",
    "# 调用sess的run方法来执行矩阵乘法op\n",
    "# run(product)触发了图中三个op\n",
    "result = sess.run(product)\n",
    "\n",
    "print(result)\n",
    "sess.close()"
   ]
  },
  {
   "cell_type": "code",
   "execution_count": 10,
   "metadata": {},
   "outputs": [
    {
     "name": "stdout",
     "output_type": "stream",
     "text": [
      "[[15]]\n"
     ]
    }
   ],
   "source": [
    "# 这样定义就可以自动关闭会话（在执行后）\n",
    "\n",
    "with tf.Session() as sess:\n",
    "    # 调用sess的run方法来执行矩阵乘法op\n",
    "    # run(product)触发了图中三个op\n",
    "    result = sess.run(product)\n",
    "    \n",
    "    print(result)            "
   ]
  },
  {
   "cell_type": "markdown",
   "metadata": {},
   "source": [
    "## 1-2 变量"
   ]
  },
  {
   "cell_type": "code",
   "execution_count": 1,
   "metadata": {
    "collapsed": true
   },
   "outputs": [],
   "source": [
    "import tensorflow as tf\n",
    "\n",
    "x = tf.Variable([1,2])\n",
    "a = tf.constant([3,3])"
   ]
  },
  {
   "cell_type": "code",
   "execution_count": 4,
   "metadata": {},
   "outputs": [
    {
     "name": "stdout",
     "output_type": "stream",
     "text": [
      "[-2 -1]\n",
      "[-1  1]\n"
     ]
    }
   ],
   "source": [
    "#定义一个减法OP\n",
    "sub = tf.subtract(x,a) # 双击shift + tab ,可见描述\n",
    "#定义一个加法OP\n",
    "add = tf.add(x,sub)\n",
    "\n",
    "# 在TensorFlow中使用变量要初始化\n",
    "# 用下条语句进行变量初始化\n",
    "init = tf.global_variables_initializer()\n",
    "\n",
    "with tf.Session() as sess:\n",
    "    sess.run(init)\n",
    "    print(sess.run(sub))\n",
    "    print(sess.run(add))"
   ]
  },
  {
   "cell_type": "markdown",
   "metadata": {},
   "source": [
    "## 1-3 "
   ]
  },
  {
   "cell_type": "code",
   "execution_count": 10,
   "metadata": {},
   "outputs": [
    {
     "name": "stdout",
     "output_type": "stream",
     "text": [
      "0\n",
      "1\n",
      "2\n",
      "3\n",
      "4\n",
      "5\n"
     ]
    }
   ],
   "source": [
    "# 创建一个变量初始化为零（可起名字）\n",
    "state = tf.Variable(0,name = \"counter\")\n",
    "\n",
    "# 创建一个加法OP，作用是使得state加一,赋值给new_value\n",
    "new_value = tf.add(state,1)\n",
    "# 赋值OP\n",
    "update = tf.assign(state,new_value)\n",
    "\n",
    "# 变量初始化\n",
    "init = tf.global_variables_initializer()\n",
    "\n",
    "with tf.Session() as sess:\n",
    "    sess.run(init)\n",
    "    print(sess.run(state))\n",
    "    \n",
    "    for i in range(5):\n",
    "        sess.run(update)\n",
    "        print(sess.run(state))    "
   ]
  },
  {
   "cell_type": "markdown",
   "metadata": {},
   "source": [
    "## 1-4 Fetch and Feed"
   ]
  },
  {
   "cell_type": "code",
   "execution_count": 11,
   "metadata": {
    "collapsed": true
   },
   "outputs": [],
   "source": [
    "import tensorflow as tf"
   ]
  },
  {
   "cell_type": "code",
   "execution_count": 14,
   "metadata": {},
   "outputs": [
    {
     "name": "stdout",
     "output_type": "stream",
     "text": [
      "[21.0, 7.0]\n"
     ]
    }
   ],
   "source": [
    "# Fetch:\n",
    "input1 = tf.constant(3.0)\n",
    "input2 = tf.constant(2.0)\n",
    "input3 = tf.constant(5.0)\n",
    "\n",
    "add = tf.add(input2,input3)\n",
    "# 乘法操作\n",
    "mul = tf.multiply(input1,add)\n",
    " \n",
    "with tf.Session() as sess:\n",
    "    result = sess.run([mul,add])\n",
    "    print(result)"
   ]
  },
  {
   "cell_type": "code",
   "execution_count": 17,
   "metadata": {},
   "outputs": [
    {
     "name": "stdout",
     "output_type": "stream",
     "text": [
      "[ 16.]\n"
     ]
    }
   ],
   "source": [
    "# Feed:\n",
    "# 创建占位符\n",
    "input1 = tf.placeholder(tf.float32)\n",
    "input2 = tf.placeholder(tf.float32)\n",
    "output = tf.multiply(input1,input2)\n",
    "\n",
    "with tf.Session() as sess:\n",
    "    # Feed的数值这里以字典形式传入\n",
    "    print(sess.run(output,feed_dict={input1:[8.],input2:[2.]}))"
   ]
  },
  {
   "cell_type": "markdown",
   "metadata": {},
   "source": [
    "## 1-5 TensorFlow简单实例\n",
    "以下是TensorFlow的模型构造和处理的简单过程"
   ]
  },
  {
   "cell_type": "code",
   "execution_count": 22,
   "metadata": {},
   "outputs": [
    {
     "name": "stdout",
     "output_type": "stream",
     "text": [
      "0 [0.055039167, 0.10061195]\n",
      "20 [0.10447808, 0.19753926]\n",
      "40 [0.10270493, 0.19851366]\n",
      "60 [0.10163385, 0.19910221]\n",
      "80 [0.10098691, 0.19945771]\n",
      "100 [0.10059611, 0.19967243]\n",
      "120 [0.10036007, 0.19980215]\n",
      "140 [0.1002175, 0.19988048]\n",
      "160 [0.10013139, 0.19992781]\n",
      "180 [0.10007937, 0.19995639]\n",
      "200 [0.10004793, 0.19997366]\n"
     ]
    }
   ],
   "source": [
    "import numpy as np\n",
    "import tensorflow as tf\n",
    "\n",
    "# 使用Numpy生成100个随机点\n",
    "x_data = np.random.rand(100)\n",
    "y_data = x_data*0.1 + 0.2  #y_data 为确定的值\n",
    "\n",
    "# 构建一个线性模型\n",
    "b = tf.Variable(0.)  #初始化为零（这里暗示需要使用浮点数）\n",
    "k = tf.Variable(0.)\n",
    "\n",
    "y = k * x_data + b\n",
    "\n",
    "# 定义一个二次代价函数\n",
    "loss = tf.reduce_mean(tf.square(y_data-y))  #误差的平方（真实值-模拟值）**2\n",
    "# 定义一个梯度下降法来进行训练的优化器\n",
    "optimizer = tf.train.GradientDescentOptimizer(0.2)\n",
    "# 最小化代价函数\n",
    "train = optimizer.minimize(loss)\n",
    "# 初始化变量\n",
    "init = tf.global_variables_initializer()\n",
    "\n",
    "with tf.Session() as sess:\n",
    "    sess.run(init) \n",
    "    for step in range(201):\n",
    "        sess.run(train)\n",
    "        if step%20 == 0:\n",
    "            print(step,sess.run([k,b]))\n",
    "            \n",
    "# 我们构建的线性模型，经过梯度下降法训练，使得二次代价函数最小化，即最接近原一次函数"
   ]
  },
  {
   "cell_type": "code",
   "execution_count": null,
   "metadata": {
    "collapsed": true
   },
   "outputs": [],
   "source": []
  }
 ],
 "metadata": {
  "kernelspec": {
   "display_name": "Python [conda env:Anaconda3]",
   "language": "python",
   "name": "conda-env-Anaconda3-py"
  },
  "language_info": {
   "codemirror_mode": {
    "name": "ipython",
    "version": 3
   },
   "file_extension": ".py",
   "mimetype": "text/x-python",
   "name": "python",
   "nbconvert_exporter": "python",
   "pygments_lexer": "ipython3",
   "version": "3.6.1"
  }
 },
 "nbformat": 4,
 "nbformat_minor": 2
}
