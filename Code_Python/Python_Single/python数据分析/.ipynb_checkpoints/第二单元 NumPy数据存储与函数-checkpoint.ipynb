{
 "cells": [
  {
   "cell_type": "markdown",
   "metadata": {},
   "source": [
    "# 一、数据的CSV文件存取"
   ]
  },
  {
   "cell_type": "markdown",
   "metadata": {},
   "source": [
    "CSV（Comma-Separated Value，逗号分割值）\n",
    "\n",
    "csv是一种常见的文件格式，用来存储批量数据。\n",
    "\n",
    "   np.savetxt(frame , array , fmt='%.18e' , delimiter=None)\n",
    "\n",
    "           frame:    文件、字符串、产生器，可以是.gz或.bbz的压缩文件\n",
    "  \n",
    "           array：   存入文件的数组\n",
    "  \n",
    "           fmt      写入文件的格式，例如：%d、%.2f、%.18e\n",
    "  \n",
    "           delimiter: 分割字符串，默认是任何空格"
   ]
  },
  {
   "cell_type": "code",
   "execution_count": 9,
   "metadata": {
    "collapsed": true
   },
   "outputs": [],
   "source": [
    "import numpy as np"
   ]
  },
  {
   "cell_type": "code",
   "execution_count": 10,
   "metadata": {
    "collapsed": true
   },
   "outputs": [],
   "source": [
    "a = np.arange(100).reshape((5,20))"
   ]
  },
  {
   "cell_type": "code",
   "execution_count": 11,
   "metadata": {
    "collapsed": true
   },
   "outputs": [],
   "source": [
    "np.savetxt('a.csv',a,fmt='%d',delimiter=',')"
   ]
  },
  {
   "cell_type": "code",
   "execution_count": 8,
   "metadata": {
    "collapsed": true
   },
   "outputs": [],
   "source": [
    "np.savetxt('a.csv',a,fmt='%.1f',delimiter=' ')"
   ]
  },
  {
   "cell_type": "markdown",
   "metadata": {},
   "source": [
    "加载数据\n",
    "\n",
    "np.loadtxt(frame , dtype=np.float , delimiter=None , unpack=False)\n",
    "\n",
    "       frame:同上\n",
    "       \n",
    "       dtype：数据类型，可选\n",
    "       \n",
    "       delimiter：分割字符串，默认是任何空格\n",
    "       \n",
    "       unpack：如果为True，读入属性将分别写入不同变量\n",
    "           "
   ]
  },
  {
   "cell_type": "code",
   "execution_count": 12,
   "metadata": {
    "collapsed": true
   },
   "outputs": [],
   "source": [
    "b = np.loadtxt('a.csv',delimiter=',')"
   ]
  },
  {
   "cell_type": "code",
   "execution_count": 13,
   "metadata": {},
   "outputs": [
    {
     "data": {
      "text/plain": [
       "array([[  0.,   1.,   2.,   3.,   4.,   5.,   6.,   7.,   8.,   9.,  10.,\n",
       "         11.,  12.,  13.,  14.,  15.,  16.,  17.,  18.,  19.],\n",
       "       [ 20.,  21.,  22.,  23.,  24.,  25.,  26.,  27.,  28.,  29.,  30.,\n",
       "         31.,  32.,  33.,  34.,  35.,  36.,  37.,  38.,  39.],\n",
       "       [ 40.,  41.,  42.,  43.,  44.,  45.,  46.,  47.,  48.,  49.,  50.,\n",
       "         51.,  52.,  53.,  54.,  55.,  56.,  57.,  58.,  59.],\n",
       "       [ 60.,  61.,  62.,  63.,  64.,  65.,  66.,  67.,  68.,  69.,  70.,\n",
       "         71.,  72.,  73.,  74.,  75.,  76.,  77.,  78.,  79.],\n",
       "       [ 80.,  81.,  82.,  83.,  84.,  85.,  86.,  87.,  88.,  89.,  90.,\n",
       "         91.,  92.,  93.,  94.,  95.,  96.,  97.,  98.,  99.]])"
      ]
     },
     "execution_count": 13,
     "metadata": {},
     "output_type": "execute_result"
    }
   ],
   "source": [
    "b"
   ]
  },
  {
   "cell_type": "code",
   "execution_count": 14,
   "metadata": {
    "collapsed": true
   },
   "outputs": [],
   "source": [
    "b = np.loadtxt('a.csv',dtype=np.int,delimiter=',')"
   ]
  },
  {
   "cell_type": "code",
   "execution_count": 15,
   "metadata": {},
   "outputs": [
    {
     "data": {
      "text/plain": [
       "array([[ 0,  1,  2,  3,  4,  5,  6,  7,  8,  9, 10, 11, 12, 13, 14, 15, 16,\n",
       "        17, 18, 19],\n",
       "       [20, 21, 22, 23, 24, 25, 26, 27, 28, 29, 30, 31, 32, 33, 34, 35, 36,\n",
       "        37, 38, 39],\n",
       "       [40, 41, 42, 43, 44, 45, 46, 47, 48, 49, 50, 51, 52, 53, 54, 55, 56,\n",
       "        57, 58, 59],\n",
       "       [60, 61, 62, 63, 64, 65, 66, 67, 68, 69, 70, 71, 72, 73, 74, 75, 76,\n",
       "        77, 78, 79],\n",
       "       [80, 81, 82, 83, 84, 85, 86, 87, 88, 89, 90, 91, 92, 93, 94, 95, 96,\n",
       "        97, 98, 99]])"
      ]
     },
     "execution_count": 15,
     "metadata": {},
     "output_type": "execute_result"
    }
   ],
   "source": [
    "b"
   ]
  },
  {
   "cell_type": "markdown",
   "metadata": {},
   "source": [
    "CSV的局限性：\n",
    "        CSV只能有效存储一维和二维数组，np.savetxt()和np.loadtxt()只能有效存取一维和二维数组"
   ]
  },
  {
   "cell_type": "markdown",
   "metadata": {},
   "source": [
    "# 二、多维数据的存取"
   ]
  },
  {
   "cell_type": "markdown",
   "metadata": {},
   "source": [
    "1、任意维度数据的存储：\n",
    "\n",
    "   a.tofile(frame , sep='' , format='%s')\n",
    "    \n",
    "    frame: 文件、字符串\n",
    "        \n",
    "    sep:   数据分割字符串，如果为空串，写入文件为二进制\n",
    "        \n",
    "    format:写入数据的格式\n",
    "        "
   ]
  },
  {
   "cell_type": "code",
   "execution_count": 21,
   "metadata": {
    "collapsed": true
   },
   "outputs": [],
   "source": [
    "a = np.arange(100).reshape((5,10,2))\n",
    "\n",
    "a.tofile(\"b.txt\",sep=',',format='%d')"
   ]
  },
  {
   "cell_type": "markdown",
   "metadata": {},
   "source": [
    "任意维度数据的读取：\n",
    "\n",
    "   np.fromfile(frame , dtype=float , count=-1 , sep='')\n",
    "    \n",
    "     frame:文件、字符串\n",
    "   \n",
    "     dtype:读取的数据类型\n",
    "   \n",
    "     count:读入元素个数，-1代表读入整个文件\n",
    "   \n",
    "     sep:  数值分割字符串，如果是空串，写入文件为二进制\n",
    "\n",
    "注：该方法需要读取时知道存入文件时数组的维度和元素类型，且a.tofile()和a.fromfile()需要配合使用，可以通过元数据文件来存储额外信息。"
   ]
  },
  {
   "cell_type": "code",
   "execution_count": 26,
   "metadata": {
    "scrolled": true
   },
   "outputs": [
    {
     "data": {
      "text/plain": [
       "array([[[ 0,  1],\n",
       "        [ 2,  3],\n",
       "        [ 4,  5],\n",
       "        [ 6,  7],\n",
       "        [ 8,  9],\n",
       "        [10, 11],\n",
       "        [12, 13],\n",
       "        [14, 15],\n",
       "        [16, 17],\n",
       "        [18, 19]],\n",
       "\n",
       "       [[20, 21],\n",
       "        [22, 23],\n",
       "        [24, 25],\n",
       "        [26, 27],\n",
       "        [28, 29],\n",
       "        [30, 31],\n",
       "        [32, 33],\n",
       "        [34, 35],\n",
       "        [36, 37],\n",
       "        [38, 39]],\n",
       "\n",
       "       [[40, 41],\n",
       "        [42, 43],\n",
       "        [44, 45],\n",
       "        [46, 47],\n",
       "        [48, 49],\n",
       "        [50, 51],\n",
       "        [52, 53],\n",
       "        [54, 55],\n",
       "        [56, 57],\n",
       "        [58, 59]],\n",
       "\n",
       "       [[60, 61],\n",
       "        [62, 63],\n",
       "        [64, 65],\n",
       "        [66, 67],\n",
       "        [68, 69],\n",
       "        [70, 71],\n",
       "        [72, 73],\n",
       "        [74, 75],\n",
       "        [76, 77],\n",
       "        [78, 79]],\n",
       "\n",
       "       [[80, 81],\n",
       "        [82, 83],\n",
       "        [84, 85],\n",
       "        [86, 87],\n",
       "        [88, 89],\n",
       "        [90, 91],\n",
       "        [92, 93],\n",
       "        [94, 95],\n",
       "        [96, 97],\n",
       "        [98, 99]]])"
      ]
     },
     "execution_count": 26,
     "metadata": {},
     "output_type": "execute_result"
    }
   ],
   "source": [
    "c = np.fromfile('b.txt',dtype=np.int,sep=\",\")\n",
    "\n",
    "c\n",
    "\n",
    "c.reshape(5,10,2)"
   ]
  },
  {
   "cell_type": "markdown",
   "metadata": {
    "collapsed": true
   },
   "source": [
    "2、NumPy的便捷文件存储\n",
    "  \n",
    "  np.save(fname , array)  \n",
    "  np.savez(fname , array)  \n",
    "          \n",
    "      frame: 文件名，以.npy 为扩展名，压缩扩展名为.npz\n",
    "          \n",
    "      array: 数组变量\n",
    "     \n",
    "  np.load(fname)\n",
    "       \n",
    "      fname: 文件名，以.npy为扩展名，压缩扩展名为.npz"
   ]
  },
  {
   "cell_type": "code",
   "execution_count": 29,
   "metadata": {},
   "outputs": [],
   "source": [
    "a = np.arange(100).reshape(5,10,2)\n",
    "\n",
    "np.save('a.npy',a)"
   ]
  },
  {
   "cell_type": "code",
   "execution_count": 31,
   "metadata": {},
   "outputs": [
    {
     "data": {
      "text/plain": [
       "array([[[ 0,  1],\n",
       "        [ 2,  3],\n",
       "        [ 4,  5],\n",
       "        [ 6,  7],\n",
       "        [ 8,  9],\n",
       "        [10, 11],\n",
       "        [12, 13],\n",
       "        [14, 15],\n",
       "        [16, 17],\n",
       "        [18, 19]],\n",
       "\n",
       "       [[20, 21],\n",
       "        [22, 23],\n",
       "        [24, 25],\n",
       "        [26, 27],\n",
       "        [28, 29],\n",
       "        [30, 31],\n",
       "        [32, 33],\n",
       "        [34, 35],\n",
       "        [36, 37],\n",
       "        [38, 39]],\n",
       "\n",
       "       [[40, 41],\n",
       "        [42, 43],\n",
       "        [44, 45],\n",
       "        [46, 47],\n",
       "        [48, 49],\n",
       "        [50, 51],\n",
       "        [52, 53],\n",
       "        [54, 55],\n",
       "        [56, 57],\n",
       "        [58, 59]],\n",
       "\n",
       "       [[60, 61],\n",
       "        [62, 63],\n",
       "        [64, 65],\n",
       "        [66, 67],\n",
       "        [68, 69],\n",
       "        [70, 71],\n",
       "        [72, 73],\n",
       "        [74, 75],\n",
       "        [76, 77],\n",
       "        [78, 79]],\n",
       "\n",
       "       [[80, 81],\n",
       "        [82, 83],\n",
       "        [84, 85],\n",
       "        [86, 87],\n",
       "        [88, 89],\n",
       "        [90, 91],\n",
       "        [92, 93],\n",
       "        [94, 95],\n",
       "        [96, 97],\n",
       "        [98, 99]]])"
      ]
     },
     "execution_count": 31,
     "metadata": {},
     "output_type": "execute_result"
    }
   ],
   "source": [
    "b = np.load('a.npy')\n",
    "\n",
    "b"
   ]
  },
  {
   "cell_type": "markdown",
   "metadata": {},
   "source": [
    "# 三、NumPy的随机数函数"
   ]
  },
  {
   "cell_type": "markdown",
   "metadata": {},
   "source": [
    "NumPy的随机数函数字库\n",
    "    np.random.*\n",
    "       \n",
    "    它的随机数函数：\n",
    "       \n",
    "       rand(d0,d1,……,dn)      根据d0-dn创建随机数数组，浮点数，[0,1),均匀分布\n",
    "       \n",
    "       randn(d0,d1,……,dn)     根据d0-dn创建随机数数组，标准正态分布\n",
    "       \n",
    "       randint(low,high,(shape))  根据shape创建随机整数或整数数组，范围是[low,high)\n",
    "       \n",
    "       seed(s)               随机数种子，s是给定的种子值\n",
    "       \n",
    "       shuffle(a)            根据数组a的第一轴进行随机排列，改变数组x\n",
    "       \n",
    "       permutation(a)         根据数组a的第一轴产生一个新的乱序数组，不改变数组x\n",
    "       \n",
    "       choice(a[,size,replace,p])  从一维数组a中以概率p抽取元素，形成size形状新数组，replace表示是否可以重用元素，默认为False\n",
    "       \n",
    "       uniform(low,high,size)    产生具有均态分布的数组，low起始值，high结束值，size形状\n",
    "       \n",
    "       normal（loc，scale，size） 产生具有正态分布的数组，loc均值，scale标准差，size形状\n",
    "       \n",
    "       poisson(lam,size)       产生具有泊松分布的数组，lam随机事件发生率，size形状\n",
    "       \n",
    "       "
   ]
  },
  {
   "cell_type": "code",
   "execution_count": 32,
   "metadata": {},
   "outputs": [
    {
     "data": {
      "text/plain": [
       "array([[[ 0.72380984,  0.48456573,  0.57254671,  0.22691115,  0.51711642],\n",
       "        [ 0.5410916 ,  0.57203157,  0.48762401,  0.53240651,  0.84329989],\n",
       "        [ 0.88943217,  0.5007022 ,  0.78361561,  0.2631246 ,  0.48837025],\n",
       "        [ 0.33516226,  0.83239365,  0.60546553,  0.1057637 ,  0.4780294 ]],\n",
       "\n",
       "       [[ 0.51312879,  0.03504844,  0.18542223,  0.38954091,  0.32099302],\n",
       "        [ 0.71942801,  0.70440392,  0.85613882,  0.33312657,  0.75485354],\n",
       "        [ 0.17359764,  0.09580688,  0.35494133,  0.20311028,  0.57917569],\n",
       "        [ 0.523419  ,  0.13596525,  0.17275831,  0.90365043,  0.09662499]],\n",
       "\n",
       "       [[ 0.55264385,  0.89936275,  0.29425321,  0.92764164,  0.64029797],\n",
       "        [ 0.9400223 ,  0.19641471,  0.49558347,  0.39791336,  0.36421991],\n",
       "        [ 0.20121845,  0.32387288,  0.41071611,  0.67983296,  0.74291324],\n",
       "        [ 0.15187472,  0.96610316,  0.60081648,  0.38020791,  0.11547374]]])"
      ]
     },
     "execution_count": 32,
     "metadata": {},
     "output_type": "execute_result"
    }
   ],
   "source": [
    "#函数小试\n",
    "\n",
    "a = np.random.rand(3,4,5)\n",
    "\n",
    "a"
   ]
  },
  {
   "cell_type": "code",
   "execution_count": 34,
   "metadata": {},
   "outputs": [
    {
     "data": {
      "text/plain": [
       "array([[[ 0.56005025, -0.31792227,  0.79420145,  0.40114818, -0.22786083],\n",
       "        [-0.47897273,  1.88110662,  0.40809505,  0.64146156,  0.95611833],\n",
       "        [-0.59577982, -0.89612974, -0.24061446, -0.40999652, -1.26641333],\n",
       "        [-0.17674445, -0.08074945, -0.61689128,  0.6062727 ,  0.82402623]],\n",
       "\n",
       "       [[ 0.08529421,  0.0990856 , -0.22892923,  0.68028919, -1.28471404],\n",
       "        [-0.19181177,  2.00318711, -0.62197021, -0.55352842, -0.9280669 ],\n",
       "        [ 1.05108207,  1.21873802, -0.52471058, -0.85619621, -1.14353739],\n",
       "        [ 1.18982635, -0.54401346,  1.03367597, -0.45744351, -0.13784281]],\n",
       "\n",
       "       [[ 0.41777436,  0.60366095,  0.10198924, -0.50297314,  0.40239813],\n",
       "        [ 0.48327283, -1.02759239,  0.71969955,  0.03203749, -1.28352817],\n",
       "        [ 0.98964363, -0.00301636,  0.99883782, -0.52747361,  0.33986364],\n",
       "        [-0.27875346, -0.43078847,  0.5252191 ,  0.31551795,  0.75647003]]])"
      ]
     },
     "execution_count": 34,
     "metadata": {},
     "output_type": "execute_result"
    }
   ],
   "source": [
    "sn = np.random.randn(3,4,5)\n",
    "\n",
    "sn"
   ]
  },
  {
   "cell_type": "code",
   "execution_count": 35,
   "metadata": {},
   "outputs": [
    {
     "data": {
      "text/plain": [
       "array([[173, 197, 163, 155],\n",
       "       [135, 188, 171, 154],\n",
       "       [154, 182, 116, 146]])"
      ]
     },
     "execution_count": 35,
     "metadata": {},
     "output_type": "execute_result"
    }
   ],
   "source": [
    "b = np.random.randint(100,200,(3,4))\n",
    "\n",
    "b"
   ]
  },
  {
   "cell_type": "code",
   "execution_count": 37,
   "metadata": {},
   "outputs": [
    {
     "data": {
      "text/plain": [
       "array([[109, 115, 164, 128],\n",
       "       [189, 193, 129, 108],\n",
       "       [173, 100, 140, 136]])"
      ]
     },
     "execution_count": 37,
     "metadata": {},
     "output_type": "execute_result"
    }
   ],
   "source": [
    "np.random.seed(10)\n",
    "np.random.randint(100,200,(3,4)) "
   ]
  },
  {
   "cell_type": "code",
   "execution_count": 39,
   "metadata": {},
   "outputs": [
    {
     "data": {
      "text/plain": [
       "array([[109, 115, 164, 128],\n",
       "       [189, 193, 129, 108],\n",
       "       [173, 100, 140, 136]])"
      ]
     },
     "execution_count": 39,
     "metadata": {},
     "output_type": "execute_result"
    }
   ],
   "source": [
    "np.random.seed(10)\n",
    "np.random.randint(100,200,(3,4))  #创建随机数种子，给定种子值，则创建的随机数数组一样"
   ]
  },
  {
   "cell_type": "code",
   "execution_count": 43,
   "metadata": {},
   "outputs": [
    {
     "data": {
      "text/plain": [
       "array([[171, 188, 111, 117],\n",
       "       [146, 107, 175, 128],\n",
       "       [133, 184, 196, 188]])"
      ]
     },
     "execution_count": 43,
     "metadata": {},
     "output_type": "execute_result"
    }
   ],
   "source": [
    "a = np.random.randint(100,200,(3,4)) \n",
    "\n",
    "a"
   ]
  },
  {
   "cell_type": "code",
   "execution_count": 44,
   "metadata": {},
   "outputs": [
    {
     "data": {
      "text/plain": [
       "array([[133, 184, 196, 188],\n",
       "       [146, 107, 175, 128],\n",
       "       [171, 188, 111, 117]])"
      ]
     },
     "execution_count": 44,
     "metadata": {},
     "output_type": "execute_result"
    }
   ],
   "source": [
    "np.random.shuffle(a)\n",
    "  \n",
    "a     #根据第一轴！随机排列"
   ]
  },
  {
   "cell_type": "code",
   "execution_count": 45,
   "metadata": {},
   "outputs": [
    {
     "data": {
      "text/plain": [
       "array([[104, 171, 188, 188],\n",
       "       [150, 154, 134, 115],\n",
       "       [177, 188, 115, 106]])"
      ]
     },
     "execution_count": 45,
     "metadata": {},
     "output_type": "execute_result"
    }
   ],
   "source": [
    "a = np.random.randint(100,200,(3,4))\n",
    "a"
   ]
  },
  {
   "cell_type": "code",
   "execution_count": 48,
   "metadata": {},
   "outputs": [
    {
     "data": {
      "text/plain": [
       "array([[104, 171, 188, 188],\n",
       "       [150, 154, 134, 115],\n",
       "       [177, 188, 115, 106]])"
      ]
     },
     "execution_count": 48,
     "metadata": {},
     "output_type": "execute_result"
    }
   ],
   "source": [
    "np.random.permutation(a)"
   ]
  },
  {
   "cell_type": "code",
   "execution_count": 49,
   "metadata": {},
   "outputs": [
    {
     "data": {
      "text/plain": [
       "array([[104, 171, 188, 188],\n",
       "       [150, 154, 134, 115],\n",
       "       [177, 188, 115, 106]])"
      ]
     },
     "execution_count": 49,
     "metadata": {},
     "output_type": "execute_result"
    }
   ],
   "source": [
    "a    #同前两行的a没有变化"
   ]
  },
  {
   "cell_type": "code",
   "execution_count": 50,
   "metadata": {},
   "outputs": [
    {
     "data": {
      "text/plain": [
       "array([[ 5.95439605,  4.36353698,  3.56250327,  5.87130925],\n",
       "       [ 1.49471337,  1.71238598,  3.97164523,  6.37951564],\n",
       "       [ 3.72519952,  0.02406761,  5.48816356,  1.26971841]])"
      ]
     },
     "execution_count": 50,
     "metadata": {},
     "output_type": "execute_result"
    }
   ],
   "source": [
    "u = np.random.uniform(0,10,(3,4))  #均态分布\n",
    "u"
   ]
  },
  {
   "cell_type": "code",
   "execution_count": 53,
   "metadata": {},
   "outputs": [
    {
     "data": {
      "text/plain": [
       "array([[ 14.93278376,   8.49320482,   9.91183261,  12.99558049],\n",
       "       [  8.48697357,   6.27267071,   9.35738512,  16.23995754],\n",
       "       [ 15.3113007 ,   1.8568331 ,  10.56213857,   5.04248744]])"
      ]
     },
     "execution_count": 53,
     "metadata": {},
     "output_type": "execute_result"
    }
   ],
   "source": [
    "n = np.random.normal(10,5,(3,4))  #正态分布\n",
    "n"
   ]
  },
  {
   "cell_type": "markdown",
   "metadata": {},
   "source": [
    "# 四、NumPy的统计函数 "
   ]
  },
  {
   "cell_type": "markdown",
   "metadata": {},
   "source": [
    "NumPy直接提供的统计类函数 np.*\n",
    "\n",
    "     sum(a,axis=None)    根据给定轴axis计算数组a相关元素之和，axis整数或元组\n",
    "     \n",
    "     mean(a,axis=None)   根据给定轴axis计算数组a相关元素的期望\n",
    "     \n",
    "     average(a,axis=None,weights=None) 根据给定轴axis计算数组a相关元素的加权平均值\n",
    "     \n",
    "     std(a,axis=None)    根据给定轴axis计算数组a相关元素的标准差\n",
    "     \n",
    "     var(a,axis=None)    根据给定轴axis计算数组a相关元素的方差\n",
    "     \n",
    "axis=None 是统计函数的标配参数\n",
    "     \n",
    "     min(a),max(a)      计算数组a中元素最小值、最大值\n",
    "     \n",
    "     argmin(a),argmax(a)  最小值、最大值的降一维后下标\n",
    "     \n",
    "     unravel_index(index,shape)  根据shape将一维下标index转换成多维下标\n",
    "     \n",
    "     ptp(a)           计算数组a中元素最大值与最小值的差\n",
    "     \n",
    "     median(a)         计算数组a中元素的中位数(中值）\n",
    "     "
   ]
  },
  {
   "cell_type": "code",
   "execution_count": 55,
   "metadata": {},
   "outputs": [
    {
     "data": {
      "text/plain": [
       "array([[ 0,  1,  2,  3,  4],\n",
       "       [ 5,  6,  7,  8,  9],\n",
       "       [10, 11, 12, 13, 14]])"
      ]
     },
     "execution_count": 55,
     "metadata": {},
     "output_type": "execute_result"
    }
   ],
   "source": [
    "a = np.arange(15).reshape(3,5)\n",
    "a"
   ]
  },
  {
   "cell_type": "code",
   "execution_count": 56,
   "metadata": {},
   "outputs": [
    {
     "data": {
      "text/plain": [
       "105"
      ]
     },
     "execution_count": 56,
     "metadata": {},
     "output_type": "execute_result"
    }
   ],
   "source": [
    "np.sum(a)   #对a求和"
   ]
  },
  {
   "cell_type": "code",
   "execution_count": 57,
   "metadata": {},
   "outputs": [
    {
     "data": {
      "text/plain": [
       "array([  2.,   7.,  12.])"
      ]
     },
     "execution_count": 57,
     "metadata": {},
     "output_type": "execute_result"
    }
   ],
   "source": [
    "np.mean(a,axis=1)"
   ]
  },
  {
   "cell_type": "code",
   "execution_count": 58,
   "metadata": {},
   "outputs": [
    {
     "data": {
      "text/plain": [
       "array([ 5.,  6.,  7.,  8.,  9.])"
      ]
     },
     "execution_count": 58,
     "metadata": {},
     "output_type": "execute_result"
    }
   ],
   "source": [
    "np.mean(a,axis=0)  #这个轴是什么意思啊？"
   ]
  },
  {
   "cell_type": "code",
   "execution_count": 62,
   "metadata": {},
   "outputs": [
    {
     "data": {
      "text/plain": [
       "array([ 2.1875,  3.1875,  4.1875,  5.1875,  6.1875])"
      ]
     },
     "execution_count": 62,
     "metadata": {},
     "output_type": "execute_result"
    }
   ],
   "source": [
    "np.average(a,axis=0,weights=[10,5,1])  #加权平均值？？？？"
   ]
  },
  {
   "cell_type": "code",
   "execution_count": 60,
   "metadata": {},
   "outputs": [
    {
     "data": {
      "text/plain": [
       "4.3204937989385739"
      ]
     },
     "execution_count": 60,
     "metadata": {},
     "output_type": "execute_result"
    }
   ],
   "source": [
    "np.std(a)  #标准差"
   ]
  },
  {
   "cell_type": "code",
   "execution_count": 61,
   "metadata": {},
   "outputs": [
    {
     "data": {
      "text/plain": [
       "18.666666666666668"
      ]
     },
     "execution_count": 61,
     "metadata": {},
     "output_type": "execute_result"
    }
   ],
   "source": [
    "np.var(a)  #方差"
   ]
  },
  {
   "cell_type": "code",
   "execution_count": 63,
   "metadata": {},
   "outputs": [
    {
     "data": {
      "text/plain": [
       "array([[15, 14, 13, 12, 11],\n",
       "       [10,  9,  8,  7,  6],\n",
       "       [ 5,  4,  3,  2,  1]])"
      ]
     },
     "execution_count": 63,
     "metadata": {},
     "output_type": "execute_result"
    }
   ],
   "source": [
    "b = np.arange(15,0,-1).reshape(3,5)\n",
    "b"
   ]
  },
  {
   "cell_type": "code",
   "execution_count": 64,
   "metadata": {},
   "outputs": [
    {
     "data": {
      "text/plain": [
       "15"
      ]
     },
     "execution_count": 64,
     "metadata": {},
     "output_type": "execute_result"
    }
   ],
   "source": [
    "np.max(b)  "
   ]
  },
  {
   "cell_type": "code",
   "execution_count": 65,
   "metadata": {},
   "outputs": [
    {
     "data": {
      "text/plain": [
       "0"
      ]
     },
     "execution_count": 65,
     "metadata": {},
     "output_type": "execute_result"
    }
   ],
   "source": [
    "np.argmax(b)   #扁平化后的下标"
   ]
  },
  {
   "cell_type": "code",
   "execution_count": 70,
   "metadata": {},
   "outputs": [
    {
     "data": {
      "text/plain": [
       "(0, 0)"
      ]
     },
     "execution_count": 70,
     "metadata": {},
     "output_type": "execute_result"
    }
   ],
   "source": [
    "np.unravel_index(np.argmax(b),b.shape)  #重塑成多维下标"
   ]
  },
  {
   "cell_type": "code",
   "execution_count": 71,
   "metadata": {},
   "outputs": [
    {
     "data": {
      "text/plain": [
       "14"
      ]
     },
     "execution_count": 71,
     "metadata": {},
     "output_type": "execute_result"
    }
   ],
   "source": [
    "np.ptp(b)  #极差"
   ]
  },
  {
   "cell_type": "code",
   "execution_count": 72,
   "metadata": {},
   "outputs": [
    {
     "data": {
      "text/plain": [
       "8.0"
      ]
     },
     "execution_count": 72,
     "metadata": {},
     "output_type": "execute_result"
    }
   ],
   "source": [
    "np.median(b)  #中值"
   ]
  },
  {
   "cell_type": "markdown",
   "metadata": {},
   "source": [
    "# 五、NumPy的梯度函数"
   ]
  },
  {
   "cell_type": "markdown",
   "metadata": {},
   "source": [
    "np.gradient(f)  计算数组f中元素的梯度，当f为多维时，返回每个维度梯度\n",
    "\n",
    "所谓梯度，即为连续值之间的变化率，即斜率\n",
    "\n",
    "如：XY轴中连续三个x坐标对应的Y轴值：a,b,c,其中b的梯度是(c-a)/2"
   ]
  },
  {
   "cell_type": "code",
   "execution_count": 74,
   "metadata": {},
   "outputs": [
    {
     "data": {
      "text/plain": [
       "array([1, 4, 7, 7, 9])"
      ]
     },
     "execution_count": 74,
     "metadata": {},
     "output_type": "execute_result"
    }
   ],
   "source": [
    "a = np.random.randint(0,20,(5))  #.randint(low,high,shape)\n",
    "a"
   ]
  },
  {
   "cell_type": "code",
   "execution_count": 80,
   "metadata": {},
   "outputs": [
    {
     "data": {
      "text/plain": [
       "array([ 3. ,  3. ,  1.5,  1. ,  2. ])"
      ]
     },
     "execution_count": 80,
     "metadata": {},
     "output_type": "execute_result"
    }
   ],
   "source": [
    "np.gradient(a)                   #存在一侧值和存在两侧值：(7-1)/2=3 ;(9-7)/1=2"
   ]
  },
  {
   "cell_type": "code",
   "execution_count": 78,
   "metadata": {},
   "outputs": [
    {
     "data": {
      "text/plain": [
       "array([ 4,  6, 14, 10,  9])"
      ]
     },
     "execution_count": 78,
     "metadata": {},
     "output_type": "execute_result"
    }
   ],
   "source": [
    "b = np.random.randint(0,20,(5))\n",
    "b"
   ]
  },
  {
   "cell_type": "code",
   "execution_count": 79,
   "metadata": {},
   "outputs": [
    {
     "data": {
      "text/plain": [
       "array([ 2. ,  5. ,  2. , -2.5, -1. ])"
      ]
     },
     "execution_count": 79,
     "metadata": {},
     "output_type": "execute_result"
    }
   ],
   "source": [
    "np.gradient(b)"
   ]
  },
  {
   "cell_type": "code",
   "execution_count": 81,
   "metadata": {},
   "outputs": [
    {
     "data": {
      "text/plain": [
       "array([[ 2,  1, 49, 38, 42],\n",
       "       [13, 11,  5, 29, 47],\n",
       "       [20, 48, 42, 34, 40]])"
      ]
     },
     "execution_count": 81,
     "metadata": {},
     "output_type": "execute_result"
    }
   ],
   "source": [
    "c = np.random.randint(0,50,(3,5))\n",
    "c"
   ]
  },
  {
   "cell_type": "code",
   "execution_count": 83,
   "metadata": {},
   "outputs": [
    {
     "data": {
      "text/plain": [
       "[array([[ 11. ,  10. , -44. ,  -9. ,   5. ],\n",
       "        [  9. ,  23.5,  -3.5,  -2. ,  -1. ],\n",
       "        [  7. ,  37. ,  37. ,   5. ,  -7. ]]),\n",
       " array([[ -1. ,  23.5,  18.5,  -3.5,   4. ],\n",
       "        [ -2. ,  -4. ,   9. ,  21. ,  18. ],\n",
       "        [ 28. ,  11. ,  -7. ,  -1. ,   6. ]])]"
      ]
     },
     "execution_count": 83,
     "metadata": {},
     "output_type": "execute_result"
    }
   ],
   "source": [
    "np.gradient(c)     #最外层维度的梯度与最内层维度的梯度"
   ]
  },
  {
   "cell_type": "markdown",
   "metadata": {},
   "source": [
    "# 六、单元小结\n",
    "\n",
    "数据存储与函数：\n",
    "  \n",
    "  1、CSV文件：\n",
    "            \n",
    "         np.loadtxt() 和np.savetxt()\n",
    "  \n",
    "  2、多维数据存储：\n",
    "             \n",
    "         a.tofile() np.fromfile()\n",
    "            \n",
    "         np.save() np.savez() 和 np.load()\n",
    "             \n",
    "  3、随机函数：\n",
    "         \n",
    "         np.random.rand()  .randn()  .randint()  \n",
    "         \n",
    "                .seed()\n",
    "         \n",
    "                .shuffle()  .permutation()  .choice()\n",
    "               \n",
    "  4、NumPy的统计函数：\n",
    "         \n",
    "         np.sum()  .mean()  .average()  .std()  .var()  .median()  .min()  .max()  .argmin()  .argmax()  .unravel_index() \n",
    "         \n",
    "           .ptp()  \n",
    "  \n",
    "  5、NumPy的梯度函数：\n",
    "         \n",
    "         np.gradient()"
   ]
  },
  {
   "cell_type": "code",
   "execution_count": null,
   "metadata": {
    "collapsed": true
   },
   "outputs": [],
   "source": []
  }
 ],
 "metadata": {
  "kernelspec": {
   "display_name": "Python 3",
   "language": "python",
   "name": "python3"
  },
  "language_info": {
   "codemirror_mode": {
    "name": "ipython",
    "version": 3
   },
   "file_extension": ".py",
   "mimetype": "text/x-python",
   "name": "python",
   "nbconvert_exporter": "python",
   "pygments_lexer": "ipython3",
   "version": "3.6.1"
  }
 },
 "nbformat": 4,
 "nbformat_minor": 2
}
