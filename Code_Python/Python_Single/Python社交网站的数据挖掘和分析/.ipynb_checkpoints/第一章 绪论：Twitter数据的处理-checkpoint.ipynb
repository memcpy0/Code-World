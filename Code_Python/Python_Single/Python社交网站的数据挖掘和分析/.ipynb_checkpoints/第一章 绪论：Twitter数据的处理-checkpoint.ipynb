{
 "cells": [
  {
   "cell_type": "markdown",
   "metadata": {},
   "source": [
    "# 一、开发工具小测"
   ]
  },
  {
   "cell_type": "markdown",
   "metadata": {},
   "source": [
    "## 1-1"
   ]
  },
  {
   "cell_type": "code",
   "execution_count": 21,
   "metadata": {},
   "outputs": [
    {
     "name": "stdout",
     "output_type": "stream",
     "text": [
      "[0, 1, 2, 3, 4, 5, 6, 7, 8, 9]\n"
     ]
    }
   ],
   "source": [
    "# 普通方法\n",
    "I = []\n",
    "for i in range(0,10):\n",
    "    I.append(i)\n",
    "print(I)"
   ]
  },
  {
   "cell_type": "code",
   "execution_count": 2,
   "metadata": {},
   "outputs": [
    {
     "name": "stdout",
     "output_type": "stream",
     "text": [
      "[0, 1, 2, 3, 4, 5, 6, 7, 8, 9]\n"
     ]
    }
   ],
   "source": [
    "# 列表解析\n",
    "numbers = [i for i in range(0,10)]\n",
    "print(numbers)"
   ]
  },
  {
   "cell_type": "markdown",
   "metadata": {},
   "source": [
    "列表解析\n",
    "\n",
    "　　根据已有列表，高效创建新列表的方式。\n",
    "\n",
    "　　列表解析是Python迭代机制的一种应用，它常用于实现创建新的列表，因此用在[]中。\n",
    "\n",
    "语法：\n",
    "\n",
    "　　  [expression for iter_val in iterable]\n",
    "\n",
    "　　  [expression for iter_val in iterable    if cond_expr]"
   ]
  },
  {
   "cell_type": "code",
   "execution_count": 9,
   "metadata": {},
   "outputs": [
    {
     "name": "stdout",
     "output_type": "stream",
     "text": [
      "[1, 4, 9, 16, 25, 36, 49, 64, 81, 100]\n"
     ]
    }
   ],
   "source": [
    "# 举例\n",
    "# 1、列出1-10的所有数字的平方\n",
    "# 普通方法 \n",
    "L = []\n",
    "for i in range(1,11):\n",
    "    L.append(i**2)\n",
    "print(L)"
   ]
  },
  {
   "cell_type": "code",
   "execution_count": 4,
   "metadata": {},
   "outputs": [
    {
     "name": "stdout",
     "output_type": "stream",
     "text": [
      "[1, 4, 9, 16, 25, 36, 49, 64, 81, 100]\n"
     ]
    }
   ],
   "source": [
    "# 列表解析\n",
    "num = [i**2 for i in range(1,11)]\n",
    "print(num)"
   ]
  },
  {
   "cell_type": "code",
   "execution_count": 18,
   "metadata": {},
   "outputs": [
    {
     "name": "stdout",
     "output_type": "stream",
     "text": [
      "[0.5, 2.0, 4.5, 8.0, 12.5, 18.0, 24.5, 32.0, 40.5, 50.0]\n"
     ]
    }
   ],
   "source": [
    "# 2、列出1-10的所有数字的平方除以2的值\n",
    "# 普通\n",
    "L = []\n",
    "for i in range(1,11):\n",
    "    L.append(i**2/2)\n",
    "print(L)"
   ]
  },
  {
   "cell_type": "code",
   "execution_count": 11,
   "metadata": {},
   "outputs": [
    {
     "name": "stdout",
     "output_type": "stream",
     "text": [
      "[0.5, 2.0, 4.5, 8.0, 12.5, 18.0, 24.5, 32.0, 40.5, 50.0]\n"
     ]
    }
   ],
   "source": [
    "# 列表解析\n",
    "n = [i**2/2 for i in range(1,11)]\n",
    "print(n)"
   ]
  },
  {
   "cell_type": "code",
   "execution_count": 14,
   "metadata": {},
   "outputs": [
    {
     "name": "stdout",
     "output_type": "stream",
     "text": [
      "[16, 25, 36, 49, 64, 81, 100]\n"
     ]
    }
   ],
   "source": [
    "# 3、列出1-10中大于等于4的数字的平方\n",
    "# 普通\n",
    "L = []\n",
    "for i in range(1,11):\n",
    "    if i >= 4:\n",
    "        L.append(i**2)\n",
    "print(L)"
   ]
  },
  {
   "cell_type": "code",
   "execution_count": 16,
   "metadata": {},
   "outputs": [
    {
     "name": "stdout",
     "output_type": "stream",
     "text": [
      "[16, 25, 36, 49, 64, 81, 100]\n"
     ]
    }
   ],
   "source": [
    "# 列表解析\n",
    "n = [i**2 for i in range(1,11) if i>= 4 ]\n",
    "print(n)"
   ]
  },
  {
   "cell_type": "code",
   "execution_count": 17,
   "metadata": {},
   "outputs": [
    {
     "name": "stdout",
     "output_type": "stream",
     "text": [
      "[('x', 1), ('x', 2), ('x', 3), ('c', 1), ('c', 2), ('c', 3), ('v', 1), ('v', 2), ('v', 3)]\n"
     ]
    }
   ],
   "source": [
    "# 4、实现两个列表中的元素逐一配对、\n",
    "# 普通\n",
    "L1 = ['x','c','v']\n",
    "L2 = [1,2,3]\n",
    "L = []\n",
    "for a in L1:\n",
    "    for b in L2:\n",
    "        L.append((a,b))\n",
    "print(L)"
   ]
  },
  {
   "cell_type": "code",
   "execution_count": 19,
   "metadata": {},
   "outputs": [
    {
     "name": "stdout",
     "output_type": "stream",
     "text": [
      "[('x', 1), ('x', 2), ('x', 3), ('c', 1), ('c', 2), ('c', 3), ('v', 1), ('v', 2), ('v', 3)]\n"
     ]
    }
   ],
   "source": [
    "# 列表解析\n",
    "n = [(a,b) for a in L1 for b in L2]\n",
    "print(n)"
   ]
  },
  {
   "cell_type": "code",
   "execution_count": 20,
   "metadata": {},
   "outputs": [
    {
     "name": "stdout",
     "output_type": "stream",
     "text": [
      "1*1 = 1  \n",
      "1*2 = 2  2*2 = 4  \n",
      "1*3 = 3  2*3 = 6  3*3 = 9  \n",
      "1*4 = 4  2*4 = 8  3*4 = 12 4*4 = 16 \n",
      "1*5 = 5  2*5 = 10 3*5 = 15 4*5 = 20 5*5 = 25 \n",
      "1*6 = 6  2*6 = 12 3*6 = 18 4*6 = 24 5*6 = 30 6*6 = 36 \n",
      "1*7 = 7  2*7 = 14 3*7 = 21 4*7 = 28 5*7 = 35 6*7 = 42 7*7 = 49 \n",
      "1*8 = 8  2*8 = 16 3*8 = 24 4*8 = 32 5*8 = 40 6*8 = 48 7*8 = 56 8*8 = 64 \n",
      "1*9 = 9  2*9 = 18 3*9 = 27 4*9 = 36 5*9 = 45 6*9 = 54 7*9 = 63 8*9 = 72 9*9 = 81 \n"
     ]
    }
   ],
   "source": [
    "# 5、使用列表解析生成9*9乘法表\n",
    "\n",
    "print('\\n'.join([''.join(['%s*%s = %-2s ' %(y,x,x*y) for y in range(1,x+1)]) for x in range(1,10)]))             "
   ]
  },
  {
   "cell_type": "raw",
   "metadata": {},
   "source": [
    "# 6、列出\"/var/log\"中所有以'.log'结尾的文件\n",
    "# 普通方法\n",
    "import os\n",
    "file = []\n",
    "for file in os.listdir('/var/log'):\n",
    "     if file.endswith('.log'):\n",
    "     file.append(file)\n",
    "     \n",
    "print (file)\n",
    "\n",
    "['anaconda.ifcfg.log', 'Xorg.0.log', 'anaconda.storage.log', 'Xorg.9.log', 'yum.log', 'anaconda.log', 'dracut.log', 'pm-powersave.log', 'anaconda.yum.log', 'wpa_supplicant.log', 'boot.log', 'spice-vdagent.log', 'anaconda.program.log']\n",
    "\n",
    "\n",
    "# 列表解析\n",
    "import os\n",
    "file = [ file for file in os.listdir('/var/log') if file.endswith('.log') ]\n",
    "print (file)\n",
    "\n",
    "['anaconda.ifcfg.log', 'Xorg.0.log', 'anaconda.storage.log', 'Xorg.9.log', 'yum.log', 'anaconda.log', 'dracut.log', 'pm-powersave.log', 'anaconda.yum.log', 'wpa_supplicant.log', 'boot.log', 'spice-vdagent.log', 'anaconda.program.log']\n"
   ]
  },
  {
   "cell_type": "markdown",
   "metadata": {},
   "source": [
    "以上实例，使用列表解析比使用普通方法的速度几乎可以快1倍。因此推荐使用列表解析。"
   ]
  },
  {
   "cell_type": "markdown",
   "metadata": {},
   "source": [
    "## 1-2 使用NetworkX创建一个由节点和边构成的图"
   ]
  },
  {
   "cell_type": "code",
   "execution_count": 23,
   "metadata": {
    "collapsed": true
   },
   "outputs": [],
   "source": [
    "import networkx as net"
   ]
  },
  {
   "cell_type": "code",
   "execution_count": 24,
   "metadata": {
    "collapsed": true
   },
   "outputs": [],
   "source": [
    "g = net.Graph()"
   ]
  },
  {
   "cell_type": "code",
   "execution_count": 25,
   "metadata": {
    "collapsed": true
   },
   "outputs": [],
   "source": [
    "g.add_edge(1,2)"
   ]
  },
  {
   "cell_type": "code",
   "execution_count": 26,
   "metadata": {
    "collapsed": true
   },
   "outputs": [],
   "source": [
    "g.add_node(\"spam\")"
   ]
  },
  {
   "cell_type": "code",
   "execution_count": 27,
   "metadata": {},
   "outputs": [
    {
     "name": "stdout",
     "output_type": "stream",
     "text": [
      "[1, 2, 'spam']\n"
     ]
    }
   ],
   "source": [
    "print(g.nodes())"
   ]
  },
  {
   "cell_type": "code",
   "execution_count": 28,
   "metadata": {},
   "outputs": [
    {
     "name": "stdout",
     "output_type": "stream",
     "text": [
      "[(1, 2)]\n"
     ]
    }
   ],
   "source": [
    "print(g.edges())"
   ]
  },
  {
   "cell_type": "markdown",
   "metadata": {},
   "source": [
    "# 二、Twitter数据的收集和处理"
   ]
  },
  {
   "cell_type": "code",
   "execution_count": null,
   "metadata": {
    "collapsed": true
   },
   "outputs": [],
   "source": []
  }
 ],
 "metadata": {
  "kernelspec": {
   "display_name": "Python [conda env:Anaconda3]",
   "language": "python",
   "name": "conda-env-Anaconda3-py"
  },
  "language_info": {
   "codemirror_mode": {
    "name": "ipython",
    "version": 3
   },
   "file_extension": ".py",
   "mimetype": "text/x-python",
   "name": "python",
   "nbconvert_exporter": "python",
   "pygments_lexer": "ipython3",
   "version": "3.6.1"
  }
 },
 "nbformat": 4,
 "nbformat_minor": 2
}
