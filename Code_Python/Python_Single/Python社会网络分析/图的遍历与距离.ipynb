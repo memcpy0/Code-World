{
 "cells": [
  {
   "cell_type": "code",
   "execution_count": 1,
   "metadata": {
    "collapsed": true
   },
   "outputs": [],
   "source": [
    "import networkx.generators.small"
   ]
  },
  {
   "cell_type": "code",
   "execution_count": 2,
   "metadata": {
    "collapsed": true
   },
   "outputs": [],
   "source": [
    "g = networkx.generators.small.krackhardt_kite_graph()"
   ]
  },
  {
   "cell_type": "code",
   "execution_count": 3,
   "metadata": {},
   "outputs": [
    {
     "data": {
      "text/plain": [
       "18"
      ]
     },
     "execution_count": 3,
     "metadata": {},
     "output_type": "execute_result"
    }
   ],
   "source": [
    "g.number_of_edges()"
   ]
  },
  {
   "cell_type": "code",
   "execution_count": 5,
   "metadata": {},
   "outputs": [
    {
     "data": {
      "text/plain": [
       "10"
      ]
     },
     "execution_count": 5,
     "metadata": {},
     "output_type": "execute_result"
    }
   ],
   "source": [
    "g.number_of_nodes()"
   ]
  },
  {
   "cell_type": "code",
   "execution_count": 8,
   "metadata": {},
   "outputs": [
    {
     "data": {
      "text/plain": [
       "['__class__',\n",
       " '__contains__',\n",
       " '__delattr__',\n",
       " '__dict__',\n",
       " '__dir__',\n",
       " '__doc__',\n",
       " '__eq__',\n",
       " '__format__',\n",
       " '__ge__',\n",
       " '__getattribute__',\n",
       " '__getitem__',\n",
       " '__getstate__',\n",
       " '__gt__',\n",
       " '__hash__',\n",
       " '__init__',\n",
       " '__init_subclass__',\n",
       " '__iter__',\n",
       " '__le__',\n",
       " '__len__',\n",
       " '__lt__',\n",
       " '__module__',\n",
       " '__ne__',\n",
       " '__new__',\n",
       " '__reduce__',\n",
       " '__reduce_ex__',\n",
       " '__repr__',\n",
       " '__setattr__',\n",
       " '__sizeof__',\n",
       " '__str__',\n",
       " '__subclasshook__',\n",
       " '__weakref__',\n",
       " '_adj',\n",
       " '_node',\n",
       " 'add_cycle',\n",
       " 'add_edge',\n",
       " 'add_edges_from',\n",
       " 'add_node',\n",
       " 'add_nodes_from',\n",
       " 'add_path',\n",
       " 'add_star',\n",
       " 'add_weighted_edges_from',\n",
       " 'adj',\n",
       " 'adjacency',\n",
       " 'adjlist_inner_dict_factory',\n",
       " 'adjlist_outer_dict_factory',\n",
       " 'clear',\n",
       " 'copy',\n",
       " 'degree',\n",
       " 'edge_attr_dict_factory',\n",
       " 'edge_subgraph',\n",
       " 'edges',\n",
       " 'fresh_copy',\n",
       " 'get_edge_data',\n",
       " 'graph',\n",
       " 'has_edge',\n",
       " 'has_node',\n",
       " 'is_directed',\n",
       " 'is_multigraph',\n",
       " 'name',\n",
       " 'nbunch_iter',\n",
       " 'neighbors',\n",
       " 'node',\n",
       " 'node_dict_factory',\n",
       " 'nodes',\n",
       " 'nodes_with_selfloops',\n",
       " 'number_of_edges',\n",
       " 'number_of_nodes',\n",
       " 'number_of_selfloops',\n",
       " 'order',\n",
       " 'remove_edge',\n",
       " 'remove_edges_from',\n",
       " 'remove_node',\n",
       " 'remove_nodes_from',\n",
       " 'root_graph',\n",
       " 'selfloop_edges',\n",
       " 'size',\n",
       " 'subgraph',\n",
       " 'to_directed',\n",
       " 'to_undirected']"
      ]
     },
     "execution_count": 8,
     "metadata": {},
     "output_type": "execute_result"
    }
   ],
   "source": [
    "dir(g)"
   ]
  },
  {
   "cell_type": "code",
   "execution_count": 15,
   "metadata": {},
   "outputs": [
    {
     "data": {
      "text/plain": [
       "NodeView((0, 1, 2, 3, 4, 5, 6, 7, 8, 9))"
      ]
     },
     "execution_count": 15,
     "metadata": {},
     "output_type": "execute_result"
    }
   ],
   "source": [
    "g.nodes()"
   ]
  },
  {
   "cell_type": "code",
   "execution_count": 7,
   "metadata": {},
   "outputs": [
    {
     "data": {
      "text/plain": [
       "EdgeView([(0, 1), (0, 2), (0, 3), (0, 5), (1, 3), (1, 4), (1, 6), (2, 3), (2, 5), (3, 4), (3, 5), (3, 6), (4, 6), (5, 6), (5, 7), (6, 7), (7, 8), (8, 9)])"
      ]
     },
     "execution_count": 7,
     "metadata": {},
     "output_type": "execute_result"
    }
   ],
   "source": [
    "g.edges()"
   ]
  },
  {
   "cell_type": "code",
   "execution_count": 13,
   "metadata": {},
   "outputs": [
    {
     "name": "stdout",
     "output_type": "stream",
     "text": [
      "[(0, {1: {}, 2: {}, 3: {}, 5: {}}), (1, {0: {}, 3: {}, 4: {}, 6: {}}), (2, {0: {}, 3: {}, 5: {}}), (3, {0: {}, 1: {}, 2: {}, 4: {}, 5: {}, 6: {}}), (4, {1: {}, 3: {}, 6: {}}), (5, {0: {}, 2: {}, 3: {}, 6: {}, 7: {}}), (6, {1: {}, 3: {}, 4: {}, 5: {}, 7: {}}), (7, {5: {}, 6: {}, 8: {}}), (8, {7: {}, 9: {}}), (9, {8: {}})]\n"
     ]
    }
   ],
   "source": [
    "gh = [i for i in g.adjacency()]\n",
    "print(gh)"
   ]
  },
  {
   "cell_type": "code",
   "execution_count": 16,
   "metadata": {},
   "outputs": [
    {
     "name": "stdout",
     "output_type": "stream",
     "text": [
      "{0: <dict_keyiterator object at 0x000001682ED5A7C8>, 1: <dict_keyiterator object at 0x000001682ED5A818>, 2: <dict_keyiterator object at 0x000001682ED5A868>, 3: <dict_keyiterator object at 0x000001682ED5A8B8>, 4: <dict_keyiterator object at 0x000001682ED5A908>, 5: <dict_keyiterator object at 0x000001682ED5A958>, 6: <dict_keyiterator object at 0x000001682ED5A9A8>, 7: <dict_keyiterator object at 0x000001682ED5A9F8>, 8: <dict_keyiterator object at 0x000001682ED5AA48>, 9: <dict_keyiterator object at 0x000001682ED5AA98>}\n"
     ]
    }
   ],
   "source": [
    "dict((x,g.neighbors(x)) for x in g.nodes())"
   ]
  },
  {
   "cell_type": "code",
   "execution_count": 18,
   "metadata": {},
   "outputs": [
    {
     "ename": "SyntaxError",
     "evalue": "invalid syntax (<ipython-input-18-efdb4f510d86>, line 1)",
     "output_type": "error",
     "traceback": [
      "\u001b[1;36m  File \u001b[1;32m\"<ipython-input-18-efdb4f510d86>\"\u001b[1;36m, line \u001b[1;32m1\u001b[0m\n\u001b[1;33m    object? g\u001b[0m\n\u001b[1;37m          ^\u001b[0m\n\u001b[1;31mSyntaxError\u001b[0m\u001b[1;31m:\u001b[0m invalid syntax\n"
     ]
    }
   ],
   "source": []
  },
  {
   "cell_type": "code",
   "execution_count": null,
   "metadata": {
    "collapsed": true
   },
   "outputs": [],
   "source": []
  }
 ],
 "metadata": {
  "kernelspec": {
   "display_name": "Python [conda env:Anaconda3]",
   "language": "python",
   "name": "conda-env-Anaconda3-py"
  },
  "language_info": {
   "codemirror_mode": {
    "name": "ipython",
    "version": 3
   },
   "file_extension": ".py",
   "mimetype": "text/x-python",
   "name": "python",
   "nbconvert_exporter": "python",
   "pygments_lexer": "ipython3",
   "version": "3.6.1"
  }
 },
 "nbformat": 4,
 "nbformat_minor": 2
}
