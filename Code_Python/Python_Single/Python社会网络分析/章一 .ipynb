{
 "cells": [
  {
   "cell_type": "markdown",
   "metadata": {},
   "source": [
    "# 一、导论"
   ]
  },
  {
   "cell_type": "markdown",
   "metadata": {},
   "source": [
    "    社会网络分析（Social Network Analysis ,SNA）就是“通过图论研究人类关系的一门学问”。"
   ]
  },
  {
   "cell_type": "raw",
   "metadata": {},
   "source": [
    "十年前，社会网络分析领域还是科学的一潭死水。我们是同时被主流社会学和主流计算机科学拒之门外的异数。\n",
    "我们用奇怪的数学技术处理奇怪的数据类型，生成漂亮的但十分难懂的图片，以及只有在我们的小圈子里才说得通的结论。\n",
    "\n",
    "那时收集和获取社会网络数据很困难（参见附录 A）；这个领域的学生都是通过数据集的一个小的标准集来工作，很少冒险离开这个标准集去采集自\n",
    "己的数据。\n",
    "\n",
    "社交媒体的出现改变了所有这一切。每一天，推特产生的社会网络数据比十年前我们整个领域的数据还要多；\n",
    "每个社交媒体网站提供一个 API以方便数据检索；世界上很多政府机构也开放数据由社会网络分析技术来处理。\n",
    "\n",
    "本书将分析社交媒体数据，我们将收集来自推特（附录 A）、脸谱以及 LiveJournaI的数据，\n",
    "·学习识别在线社群，研究如何解析一段病毒视频和一次快闪（ flashmob）；\n",
    "\n",
    "除此以外，本书也会演示社会网络分析很多不同的应用方法。本书的研究对象是社交媒体，但也并不仅限于社交媒体。\n",
    "\n",
    "·我们可以通过公司的投资网络及其董事会的共同人员研究公司之间的关系。\n",
    "\n",
    "·也可以深入机构内部，去发现饮水机和小吃店附近的社交网络如何影响一家公司的执行力，以及对此不以为然的公司将如何自食其果。\n",
    "\n",
    "·我们通过研究竞选资金，可以发现某个特别利益集团是如何控制整个竞选结果的。\n",
    "\n",
    "·还可以研究恐怖主义分子、革命者以及激进分子的活动一一从1998年的霍巴塔爆炸到“9，11”袭击再到最近的埃及革命。\n",
    "\n",
    "我们将把这些方向和趋势一一解剖开来，而这些往往是通过推特和脸谱实现的，虽然这些事件本质上也是线下的。\n",
    "\n",
    "本书将告诉你网络数据无处不在——你只需要学习识别它、分析它。一旦你开始这样做了，就会出现新的灵感和\n",
    "想法。\n"
   ]
  },
  {
   "cell_type": "markdown",
   "metadata": {},
   "source": [
    "# 二、分析关系，理解人与群体"
   ]
  },
  {
   "cell_type": "markdown",
   "metadata": {},
   "source": [
    "社会网络分析（SNA）的核心概念是人与人的关系。\n",
    "通过对不同关系模式的观察与研究，就能回答许多关于社会的问题。"
   ]
  },
  {
   "cell_type": "markdown",
   "metadata": {},
   "source": [
    "什么是关系？ 它可以是\n",
    "\n",
    "·友谊、信任、情感\n",
    "\n",
    "·不喜欢、冲突、厌恶\n",
    "\n",
    "·……"
   ]
  },
  {
   "cell_type": "raw",
   "metadata": {},
   "source": [
    "import networkx as net\n",
    "import matplotlib.pyplot as plot\n",
    "orgchart = net.read_pajek(\"ACME_orgchart.net\")\n",
    "net.draw(orgchart)\n",
    "advice = net.read_pajek(\"ACME_advice.net\")\n",
    "net.draw(advice)"
   ]
  },
  {
   "cell_type": "code",
   "execution_count": null,
   "metadata": {
    "collapsed": true
   },
   "outputs": [],
   "source": []
  }
 ],
 "metadata": {
  "kernelspec": {
   "display_name": "Python [conda env:Anaconda3]",
   "language": "python",
   "name": "conda-env-Anaconda3-py"
  },
  "language_info": {
   "codemirror_mode": {
    "name": "ipython",
    "version": 3
   },
   "file_extension": ".py",
   "mimetype": "text/x-python",
   "name": "python",
   "nbconvert_exporter": "python",
   "pygments_lexer": "ipython3",
   "version": "3.6.1"
  }
 },
 "nbformat": 4,
 "nbformat_minor": 2
}
