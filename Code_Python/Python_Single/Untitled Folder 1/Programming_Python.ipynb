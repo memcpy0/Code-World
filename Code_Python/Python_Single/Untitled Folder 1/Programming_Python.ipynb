{
 "cells": [
  {
   "cell_type": "code",
   "execution_count": 2,
   "metadata": {},
   "outputs": [
    {
     "name": "stdout",
     "output_type": "stream",
     "text": [
      "89\n",
      "152\n",
      "56\n"
     ]
    }
   ],
   "source": [
    "import sys, os\n",
    "for i in [sys, os, os.path]:\n",
    "    print(len(dir(i)))"
   ]
  },
  {
   "cell_type": "code",
   "execution_count": 3,
   "metadata": {
    "collapsed": true
   },
   "outputs": [],
   "source": [
    "import glob, socket\n",
    "import threading, _thread, queue\n",
    "import time, timeit\n",
    "import subprocess, multiprocessing\n",
    "import signal, select, shutil, tempfile"
   ]
  },
  {
   "cell_type": "markdown",
   "metadata": {},
   "source": [
    "## 介绍sys模块"
   ]
  },
  {
   "cell_type": "code",
   "execution_count": 10,
   "metadata": {},
   "outputs": [
    {
     "name": "stdout",
     "output_type": "stream",
     "text": [
      "This module provides access to some objects used or maintained by the\n",
      "interpreter and to functions that interact strongly with the interpreter.\n",
      "\n",
      "Dynamic objects:\n",
      "\n",
      "argv -- command line arguments; argv[0] is the script pathname if known\n",
      "path -- module search path; path[0] is the script directory, else ''\n",
      "modules -- dictionary of loaded modules\n",
      "\n",
      "displayhook -- called to show results in an interactive session\n",
      "excepthook -- called to handle any uncaught exception other than SystemExit\n",
      "  To customize printing in an interactive session or to install a custom\n",
      "  top-level exception handler, assign other functions to replace these.\n",
      "\n",
      "stdin -- standard input file object; used by input()\n",
      "stdout -- standard output file object; used by print()\n",
      "stderr -- standard error object; used for error messages\n",
      "  By assigning other file objects (or objects that behave like files)\n",
      "  to these, it is possible to redirect all of the interpreter's I/O.\n",
      "\n",
      "last_type -- type of last uncaught exception\n",
      "last_value -- value of last uncaught exception\n",
      "last_traceback -- traceback of last uncaught exception\n",
      "  These three are only available in an interactive session after a\n",
      "  traceback has been printed.\n",
      "\n",
      "Static objects:\n",
      "\n",
      "builtin_module_names -- tuple of module names built into this interpreter\n",
      "copyright -- copyright notice pertaining to this interpreter\n",
      "exec_prefix -- prefix used to find the machine-specific Python library\n",
      "executable -- absolute path of the executable binary of the Python interpreter\n",
      "float_info -- a struct sequence with information about the float implementation.\n",
      "float_repr_style -- string indicating the style of repr() output for floats\n",
      "hash_info -- a struct sequence with information about the hash algorithm.\n",
      "hexversion -- version information encoded as a single integer\n",
      "implementation -- Python implementation information.\n",
      "int_info -- a struct sequence with information about the int implementation.\n",
      "maxsize -- the largest supported length of containers.\n",
      "maxunicode -- the value of the largest Unicode code point\n",
      "platform -- platform identifier\n",
      "prefix -- prefix used to find the Python library\n",
      "thread_info -- a struct sequence with information about the thread implementation.\n",
      "version -- the version of this interpreter as a string\n",
      "version_info -- version information as a named tuple\n",
      "dllhandle -- [Windows only] integer handle of the Python DLL\n",
      "winver -- [Windows only] version number of the Python DLL\n",
      "_enablelegacywindowsfsencoding -- [Windows only] \n",
      "__stdin__ -- the original stdin; don't touch!\n",
      "__stdout__ -- the original stdout; don't touch!\n",
      "__stderr__ -- the original stderr; don't touch!\n",
      "__displayhook__ -- the original displayhook; don't touch!\n",
      "__excepthook__ -- the original excepthook; don't touch!\n",
      "\n",
      "Functions:\n",
      "\n",
      "displayhook() -- print an object to the screen, and save it in builtins._\n",
      "excepthook() -- print an exception and its traceback to sys.stderr\n",
      "exc_info() -- return thread-safe information about the current exception\n",
      "exit() -- exit the interpreter by raising SystemExit\n",
      "getdlopenflags() -- returns flags to be used for dlopen() calls\n",
      "getprofile() -- get the global profiling function\n",
      "getrefcount() -- return the reference count for an object (plus one :-)\n",
      "getrecursionlimit() -- return the max recursion depth for the interpreter\n",
      "getsizeof() -- return the size of an object in bytes\n",
      "gettrace() -- get the global debug tracing function\n",
      "setcheckinterval() -- control how often the interpreter checks for events\n",
      "setdlopenflags() -- set the flags to be used for dlopen() calls\n",
      "setprofile() -- set the global profiling function\n",
      "setrecursionlimit() -- set the max recursion depth for the interpreter\n",
      "settrace() -- set the global debug tracing function\n",
      "\n"
     ]
    }
   ],
   "source": [
    "print(sys.__doc__)"
   ]
  },
  {
   "cell_type": "code",
   "execution_count": 14,
   "metadata": {
    "scrolled": true
   },
   "outputs": [
    {
     "name": "stdout",
     "output_type": "stream",
     "text": [
      "3.6.1 |Anaconda custom (64-bit)| (default, May 11 2017, 13:25:24) [MSC v.1900 64 bit (AMD64)]\n",
      "sys.version_info(major=3, minor=6, micro=1, releaselevel='final', serial=0)\n"
     ]
    }
   ],
   "source": [
    "print(sys.version, end=\"\\n\")\n",
    "print(sys.version_info)"
   ]
  },
  {
   "cell_type": "code",
   "execution_count": 15,
   "metadata": {},
   "outputs": [
    {
     "name": "stdout",
     "output_type": "stream",
     "text": [
      "Hello Windows\n"
     ]
    }
   ],
   "source": [
    "if sys.platform[:3] == 'win':print(\"Hello Windows\")"
   ]
  },
  {
   "cell_type": "code",
   "execution_count": 19,
   "metadata": {},
   "outputs": [
    {
     "data": {
      "text/plain": [
       "'sys'"
      ]
     },
     "execution_count": 19,
     "metadata": {},
     "output_type": "execute_result"
    }
   ],
   "source": [
    "sys.__name__"
   ]
  },
  {
   "cell_type": "code",
   "execution_count": 16,
   "metadata": {},
   "outputs": [
    {
     "data": {
      "text/plain": [
       "['builtins',\n",
       " 'sys',\n",
       " '_frozen_importlib',\n",
       " '_imp',\n",
       " '_warnings',\n",
       " '_thread',\n",
       " '_weakref',\n",
       " '_frozen_importlib_external',\n",
       " '_io',\n",
       " 'marshal',\n",
       " 'nt',\n",
       " 'winreg',\n",
       " 'zipimport',\n",
       " 'encodings',\n",
       " 'codecs',\n",
       " '_codecs',\n",
       " 'encodings.aliases',\n",
       " 'encodings.utf_8',\n",
       " '_signal',\n",
       " '__main__',\n",
       " 'encodings.latin_1',\n",
       " 'io',\n",
       " 'abc',\n",
       " '_weakrefset',\n",
       " '_bootlocale',\n",
       " '_locale',\n",
       " 'encodings.gbk',\n",
       " '_codecs_cn',\n",
       " '_multibytecodec',\n",
       " 'site',\n",
       " 'os',\n",
       " 'errno',\n",
       " 'stat',\n",
       " '_stat',\n",
       " 'ntpath',\n",
       " 'genericpath',\n",
       " 'os.path',\n",
       " '_collections_abc',\n",
       " '_sitebuiltins',\n",
       " 'sysconfig',\n",
       " 'types',\n",
       " 'functools',\n",
       " '_functools',\n",
       " 'collections',\n",
       " 'operator',\n",
       " '_operator',\n",
       " 'keyword',\n",
       " 'heapq',\n",
       " '_heapq',\n",
       " 'itertools',\n",
       " 'reprlib',\n",
       " '_collections',\n",
       " 'weakref',\n",
       " 'collections.abc',\n",
       " 'importlib',\n",
       " 'importlib._bootstrap',\n",
       " 'importlib._bootstrap_external',\n",
       " 'warnings',\n",
       " 'importlib.util',\n",
       " 'importlib.abc',\n",
       " 'importlib.machinery',\n",
       " 'contextlib',\n",
       " 'google',\n",
       " 'encodings.cp437',\n",
       " 'runpy',\n",
       " 'pkgutil',\n",
       " 'ipykernel',\n",
       " 'ipykernel._version',\n",
       " 'ipykernel.connect',\n",
       " '__future__',\n",
       " 'json',\n",
       " 'json.decoder',\n",
       " 're',\n",
       " 'enum',\n",
       " 'sre_compile',\n",
       " '_sre',\n",
       " 'sre_parse',\n",
       " 'sre_constants',\n",
       " 'copyreg',\n",
       " 'json.scanner',\n",
       " '_json',\n",
       " 'json.encoder',\n",
       " 'subprocess',\n",
       " 'time',\n",
       " 'signal',\n",
       " 'threading',\n",
       " 'traceback',\n",
       " 'linecache',\n",
       " 'tokenize',\n",
       " 'token',\n",
       " 'msvcrt',\n",
       " '_winapi',\n",
       " 'IPython',\n",
       " 'IPython.core',\n",
       " 'IPython.core.getipython',\n",
       " 'IPython.core.release',\n",
       " 'IPython.core.application',\n",
       " 'atexit',\n",
       " 'copy',\n",
       " 'glob',\n",
       " 'fnmatch',\n",
       " 'posixpath',\n",
       " 'logging',\n",
       " 'string',\n",
       " '_string',\n",
       " 'shutil',\n",
       " 'zlib',\n",
       " 'bz2',\n",
       " '_compression',\n",
       " '_bz2',\n",
       " 'lzma',\n",
       " '_lzma',\n",
       " 'traitlets',\n",
       " 'traitlets.traitlets',\n",
       " 'inspect',\n",
       " 'ast',\n",
       " '_ast',\n",
       " 'dis',\n",
       " 'opcode',\n",
       " '_opcode',\n",
       " 'six',\n",
       " 'struct',\n",
       " '_struct',\n",
       " 'traitlets.utils',\n",
       " 'traitlets.utils.getargspec',\n",
       " 'traitlets.utils.importstring',\n",
       " 'ipython_genutils',\n",
       " 'ipython_genutils._version',\n",
       " 'ipython_genutils.py3compat',\n",
       " 'ipython_genutils.encoding',\n",
       " 'locale',\n",
       " 'platform',\n",
       " 'traitlets.utils.sentinel',\n",
       " 'traitlets.utils.bunch',\n",
       " 'traitlets._version',\n",
       " 'traitlets.config',\n",
       " 'traitlets.config.application',\n",
       " 'decorator',\n",
       " 'traitlets.config.configurable',\n",
       " 'traitlets.config.loader',\n",
       " 'argparse',\n",
       " 'textwrap',\n",
       " 'gettext',\n",
       " 'ipython_genutils.path',\n",
       " 'random',\n",
       " 'math',\n",
       " 'hashlib',\n",
       " '_hashlib',\n",
       " '_blake2',\n",
       " '_sha3',\n",
       " 'bisect',\n",
       " '_bisect',\n",
       " '_random',\n",
       " 'ipython_genutils.text',\n",
       " 'ipython_genutils.importstring',\n",
       " 'IPython.core.crashhandler',\n",
       " 'pprint',\n",
       " 'IPython.core.ultratb',\n",
       " 'pydoc',\n",
       " 'urllib',\n",
       " 'urllib.parse',\n",
       " 'IPython.core.debugger',\n",
       " 'bdb',\n",
       " 'IPython.utils',\n",
       " 'IPython.utils.PyColorize',\n",
       " 'IPython.utils.coloransi',\n",
       " 'IPython.utils.ipstruct',\n",
       " 'IPython.utils.py3compat',\n",
       " 'IPython.utils.encoding',\n",
       " 'IPython.utils.colorable',\n",
       " 'pygments',\n",
       " 'pygments.util',\n",
       " 'IPython.utils.ulinecache',\n",
       " 'IPython.utils.openpy',\n",
       " 'IPython.core.excolors',\n",
       " 'IPython.testing',\n",
       " 'IPython.testing.skipdoctest',\n",
       " 'pdb',\n",
       " 'cmd',\n",
       " 'code',\n",
       " 'codeop',\n",
       " 'IPython.core.display_trap',\n",
       " 'IPython.utils.path',\n",
       " 'IPython.utils.process',\n",
       " 'IPython.utils._process_win32',\n",
       " 'ctypes',\n",
       " '_ctypes',\n",
       " 'ctypes._endian',\n",
       " 'ctypes.wintypes',\n",
       " 'IPython.utils._process_common',\n",
       " 'shlex',\n",
       " 'IPython.utils.decorators',\n",
       " 'IPython.utils.data',\n",
       " 'IPython.utils.terminal',\n",
       " 'IPython.utils.sysinfo',\n",
       " 'IPython.utils._sysinfo',\n",
       " 'IPython.core.profiledir',\n",
       " 'IPython.paths',\n",
       " 'tempfile',\n",
       " 'IPython.utils.importstring',\n",
       " 'IPython.terminal',\n",
       " 'IPython.terminal.embed',\n",
       " 'IPython.core.compilerop',\n",
       " 'IPython.core.magic_arguments',\n",
       " 'IPython.core.error',\n",
       " 'IPython.utils.text',\n",
       " 'pathlib',\n",
       " 'IPython.core.magic',\n",
       " 'getopt',\n",
       " 'IPython.core.oinspect',\n",
       " 'IPython.core.page',\n",
       " 'IPython.core.display',\n",
       " 'base64',\n",
       " 'binascii',\n",
       " 'mimetypes',\n",
       " 'IPython.lib',\n",
       " 'IPython.lib.security',\n",
       " 'getpass',\n",
       " 'IPython.lib.pretty',\n",
       " 'datetime',\n",
       " '_datetime',\n",
       " 'IPython.utils.dir2',\n",
       " 'IPython.utils.wildcard',\n",
       " 'IPython.utils.signatures',\n",
       " 'pygments.lexers',\n",
       " 'pygments.lexers._mapping',\n",
       " 'pygments.modeline',\n",
       " 'pygments.plugin',\n",
       " 'pygments.lexers.python',\n",
       " 'pygments.lexer',\n",
       " 'pygments.filter',\n",
       " 'pygments.filters',\n",
       " 'pygments.token',\n",
       " 'pygments.regexopt',\n",
       " 'pygments.unistring',\n",
       " 'pygments.formatters',\n",
       " 'pygments.formatters._mapping',\n",
       " 'pygments.formatters.html',\n",
       " 'pygments.formatter',\n",
       " 'pygments.styles',\n",
       " 'IPython.core.inputsplitter',\n",
       " 'IPython.core.inputtransformer',\n",
       " 'IPython.core.splitinput',\n",
       " 'IPython.utils.tokenize2',\n",
       " 'IPython.utils._tokenize_py3',\n",
       " 'IPython.core.interactiveshell',\n",
       " 'pickleshare',\n",
       " 'pickle',\n",
       " '_compat_pickle',\n",
       " '_pickle',\n",
       " 'IPython.core.prefilter',\n",
       " 'IPython.core.autocall',\n",
       " 'IPython.core.macro',\n",
       " 'IPython.core.shadowns',\n",
       " 'IPython.core.alias',\n",
       " 'IPython.core.builtin_trap',\n",
       " 'IPython.core.events',\n",
       " 'IPython.core.displayhook',\n",
       " 'IPython.core.displaypub',\n",
       " 'IPython.core.extensions',\n",
       " 'IPython.core.formatters',\n",
       " 'IPython.utils.sentinel',\n",
       " 'IPython.core.history',\n",
       " 'sqlite3',\n",
       " 'sqlite3.dbapi2',\n",
       " '_sqlite3',\n",
       " 'IPython.core.logger',\n",
       " 'IPython.core.payload',\n",
       " 'IPython.core.usage',\n",
       " 'IPython.utils.io',\n",
       " 'IPython.utils.capture',\n",
       " 'IPython.utils.strdispatch',\n",
       " 'IPython.core.hooks',\n",
       " 'IPython.utils.syspathcontext',\n",
       " 'IPython.utils.tempdir',\n",
       " 'IPython.utils.contexts',\n",
       " 'IPython.terminal.interactiveshell',\n",
       " 'prompt_toolkit',\n",
       " 'prompt_toolkit.interface',\n",
       " 'prompt_toolkit.application',\n",
       " 'prompt_toolkit.buffer',\n",
       " 'prompt_toolkit.auto_suggest',\n",
       " 'prompt_toolkit.filters',\n",
       " 'prompt_toolkit.filters.base',\n",
       " 'prompt_toolkit.utils',\n",
       " 'wcwidth',\n",
       " 'wcwidth.wcwidth',\n",
       " 'wcwidth.table_wide',\n",
       " 'wcwidth.table_zero',\n",
       " 'six.moves',\n",
       " 'prompt_toolkit.filters.cli',\n",
       " 'prompt_toolkit.enums',\n",
       " 'prompt_toolkit.key_binding',\n",
       " 'prompt_toolkit.key_binding.vi_state',\n",
       " 'prompt_toolkit.cache',\n",
       " 'prompt_toolkit.filters.types',\n",
       " 'prompt_toolkit.filters.utils',\n",
       " 'prompt_toolkit.clipboard',\n",
       " 'prompt_toolkit.clipboard.base',\n",
       " 'prompt_toolkit.selection',\n",
       " 'prompt_toolkit.clipboard.in_memory',\n",
       " 'prompt_toolkit.completion',\n",
       " 'prompt_toolkit.document',\n",
       " 'prompt_toolkit.history',\n",
       " 'prompt_toolkit.search_state',\n",
       " 'prompt_toolkit.validation',\n",
       " 'prompt_toolkit.buffer_mapping',\n",
       " 'prompt_toolkit.key_binding.bindings',\n",
       " 'prompt_toolkit.key_binding.bindings.basic',\n",
       " 'prompt_toolkit.keys',\n",
       " 'prompt_toolkit.layout',\n",
       " 'prompt_toolkit.layout.containers',\n",
       " 'prompt_toolkit.layout.controls',\n",
       " 'prompt_toolkit.mouse_events',\n",
       " 'prompt_toolkit.token',\n",
       " 'prompt_toolkit.layout.lexers',\n",
       " 'prompt_toolkit.layout.utils',\n",
       " 'prompt_toolkit.layout.processors',\n",
       " 'prompt_toolkit.reactive',\n",
       " 'prompt_toolkit.layout.screen',\n",
       " 'prompt_toolkit.layout.dimension',\n",
       " 'prompt_toolkit.layout.margins',\n",
       " 'prompt_toolkit.renderer',\n",
       " 'prompt_toolkit.layout.mouse_handlers',\n",
       " 'prompt_toolkit.output',\n",
       " 'prompt_toolkit.styles',\n",
       " 'prompt_toolkit.styles.base',\n",
       " 'prompt_toolkit.styles.defaults',\n",
       " 'prompt_toolkit.styles.from_dict',\n",
       " 'prompt_toolkit.styles.utils',\n",
       " 'prompt_toolkit.styles.from_pygments',\n",
       " 'pygments.style',\n",
       " 'pygments.styles.default',\n",
       " 'prompt_toolkit.key_binding.bindings.named_commands',\n",
       " 'prompt_toolkit.key_binding.bindings.completion',\n",
       " 'prompt_toolkit.key_binding.registry',\n",
       " 'prompt_toolkit.key_binding.input_processor',\n",
       " 'prompt_toolkit.key_binding.bindings.emacs',\n",
       " 'prompt_toolkit.key_binding.bindings.scroll',\n",
       " 'prompt_toolkit.key_binding.bindings.vi',\n",
       " 'prompt_toolkit.key_binding.digraphs',\n",
       " 'prompt_toolkit.key_binding.defaults',\n",
       " 'prompt_toolkit.eventloop',\n",
       " 'prompt_toolkit.eventloop.base',\n",
       " 'prompt_toolkit.eventloop.callbacks',\n",
       " 'prompt_toolkit.input',\n",
       " 'prompt_toolkit.terminal',\n",
       " 'prompt_toolkit.terminal.win32_input',\n",
       " 'prompt_toolkit.win32_types',\n",
       " 'prompt_toolkit.shortcuts',\n",
       " 'prompt_toolkit.layout.menus',\n",
       " 'prompt_toolkit.layout.prompt',\n",
       " 'prompt_toolkit.layout.toolbars',\n",
       " 'prompt_toolkit.terminal.win32_output',\n",
       " 'prompt_toolkit.terminal.conemu_output',\n",
       " 'prompt_toolkit.terminal.vt100_output',\n",
       " 'array',\n",
       " 'prompt_toolkit.key_binding.manager',\n",
       " 'IPython.terminal.debugger',\n",
       " 'IPython.core.completer',\n",
       " 'unicodedata',\n",
       " 'IPython.core.latex_symbols',\n",
       " 'IPython.utils.generics',\n",
       " 'simplegeneric',\n",
       " 'IPython.terminal.ptutils',\n",
       " 'IPython.terminal.shortcuts',\n",
       " 'IPython.lib.clipboard',\n",
       " 'IPython.terminal.magics',\n",
       " 'IPython.terminal.pt_inputhooks',\n",
       " 'IPython.terminal.prompts',\n",
       " 'pkg_resources',\n",
       " 'zipfile',\n",
       " 'plistlib',\n",
       " 'xml',\n",
       " 'xml.parsers',\n",
       " 'xml.parsers.expat',\n",
       " 'pyexpat.errors',\n",
       " 'pyexpat.model',\n",
       " 'pyexpat',\n",
       " 'xml.parsers.expat.model',\n",
       " 'xml.parsers.expat.errors',\n",
       " 'email',\n",
       " 'email.parser',\n",
       " 'email.feedparser',\n",
       " 'email.errors',\n",
       " 'email._policybase',\n",
       " 'email.header',\n",
       " 'email.quoprimime',\n",
       " 'email.base64mime',\n",
       " 'email.charset',\n",
       " 'email.encoders',\n",
       " 'quopri',\n",
       " 'email.utils',\n",
       " 'socket',\n",
       " '_socket',\n",
       " 'selectors',\n",
       " 'select',\n",
       " 'email._parseaddr',\n",
       " 'calendar',\n",
       " 'pkg_resources.extern',\n",
       " 'pkg_resources._vendor',\n",
       " 'pkg_resources.extern.six',\n",
       " 'pkg_resources._vendor.six',\n",
       " 'pkg_resources.extern.six.moves',\n",
       " 'pkg_resources._vendor.six.moves',\n",
       " 'win32com',\n",
       " 'win32api',\n",
       " 'pythoncom',\n",
       " 'pywintypes',\n",
       " 'imp',\n",
       " '_win32sysloader',\n",
       " 'win32com.gen_py',\n",
       " 'win32com.shell',\n",
       " 'pkg_resources.extern.appdirs',\n",
       " 'pkg_resources._vendor.packaging.__about__',\n",
       " 'pkg_resources.extern.packaging',\n",
       " 'pkg_resources.extern.packaging.version',\n",
       " 'pkg_resources.extern.packaging._structures',\n",
       " 'pkg_resources.extern.packaging.specifiers',\n",
       " 'pkg_resources.extern.packaging._compat',\n",
       " 'pkg_resources.extern.packaging.requirements',\n",
       " 'pkg_resources.extern.pyparsing',\n",
       " 'pkg_resources.extern.six.moves.urllib',\n",
       " 'pkg_resources.extern.packaging.markers',\n",
       " 'IPython.terminal.ipapp',\n",
       " 'IPython.core.magics',\n",
       " 'IPython.core.magics.auto',\n",
       " 'IPython.core.magics.basic',\n",
       " 'IPython.core.magics.code',\n",
       " 'IPython.core.magics.config',\n",
       " 'IPython.core.magics.display',\n",
       " 'IPython.core.magics.execution',\n",
       " 'gc',\n",
       " 'timeit',\n",
       " 'cProfile',\n",
       " '_lsprof',\n",
       " 'profile',\n",
       " 'optparse',\n",
       " 'pstats',\n",
       " 'IPython.utils.module_paths',\n",
       " 'IPython.utils.timing',\n",
       " 'IPython.core.magics.extension',\n",
       " 'IPython.core.magics.history',\n",
       " 'IPython.core.magics.logging',\n",
       " 'IPython.core.magics.namespace',\n",
       " 'IPython.core.magics.osm',\n",
       " 'IPython.core.magics.pylab',\n",
       " 'IPython.core.pylabtools',\n",
       " 'IPython.core.magics.script',\n",
       " 'IPython.lib.backgroundjobs',\n",
       " 'IPython.core.shellapp',\n",
       " 'IPython.extensions',\n",
       " 'IPython.extensions.storemagic',\n",
       " 'IPython.utils.frame',\n",
       " 'jupyter_client',\n",
       " 'jupyter_client._version',\n",
       " 'jupyter_client.connect',\n",
       " 'zmq',\n",
       " 'zmq.libzmq',\n",
       " 'zmq.backend',\n",
       " 'zmq.backend.select',\n",
       " 'zmq.backend.cython',\n",
       " 'zmq.backend.cython.constants',\n",
       " '_cython_0_25_1',\n",
       " 'zmq.backend.cython.error',\n",
       " 'zmq.utils',\n",
       " 'zmq.utils.strtypes',\n",
       " 'zmq.backend.cython.message',\n",
       " 'zmq.error',\n",
       " 'zmq.backend.cython.context',\n",
       " 'zmq.backend.cython.socket',\n",
       " 'zmq.backend.cython.utils',\n",
       " 'zmq.backend.cython._poll',\n",
       " 'zmq.backend.cython._version',\n",
       " 'zmq.backend.cython._device',\n",
       " 'zmq.sugar',\n",
       " 'zmq.sugar.constants',\n",
       " 'zmq.utils.constant_names',\n",
       " 'zmq.sugar.context',\n",
       " 'zmq.sugar.attrsettr',\n",
       " 'zmq.sugar.socket',\n",
       " 'zmq.sugar.poll',\n",
       " 'zmq.sugar.frame',\n",
       " 'zmq.sugar.tracker',\n",
       " 'zmq.sugar.version',\n",
       " 'zmq.sugar.stopwatch',\n",
       " 'jupyter_client.localinterfaces',\n",
       " 'jupyter_core',\n",
       " 'jupyter_core.version',\n",
       " 'jupyter_core.paths',\n",
       " 'jupyter_client.launcher',\n",
       " 'traitlets.log',\n",
       " 'jupyter_client.client',\n",
       " 'jupyter_client.channels',\n",
       " 'jupyter_client.channelsabc',\n",
       " 'jupyter_client.clientabc',\n",
       " 'jupyter_client.manager',\n",
       " 'queue',\n",
       " 'jupyter_client.kernelspec',\n",
       " 'jupyter_client.session',\n",
       " 'hmac',\n",
       " 'zmq.utils.jsonapi',\n",
       " 'zmq.eventloop',\n",
       " 'zmq.eventloop.ioloop',\n",
       " 'tornado',\n",
       " 'tornado.ioloop',\n",
       " 'numbers',\n",
       " 'tornado.concurrent',\n",
       " 'tornado.log',\n",
       " 'logging.handlers',\n",
       " 'tornado.escape',\n",
       " 'tornado.util',\n",
       " 'typing',\n",
       " 'typing.io',\n",
       " 'typing.re',\n",
       " 'tornado.speedups',\n",
       " 'html',\n",
       " 'html.entities',\n",
       " 'colorama',\n",
       " 'colorama.initialise',\n",
       " 'colorama.ansitowin32',\n",
       " 'colorama.ansi',\n",
       " 'colorama.winterm',\n",
       " 'colorama.win32',\n",
       " 'tornado.stack_context',\n",
       " 'concurrent',\n",
       " 'concurrent.futures',\n",
       " 'concurrent.futures._base',\n",
       " 'concurrent.futures.process',\n",
       " 'multiprocessing',\n",
       " 'multiprocessing.context',\n",
       " 'multiprocessing.process',\n",
       " 'multiprocessing.reduction',\n",
       " '__mp_main__',\n",
       " 'multiprocessing.connection',\n",
       " '_multiprocessing',\n",
       " 'multiprocessing.util',\n",
       " 'concurrent.futures.thread',\n",
       " 'tornado.platform',\n",
       " 'tornado.platform.auto',\n",
       " 'tornado.platform.common',\n",
       " 'tornado.platform.interface',\n",
       " 'tornado.platform.windows',\n",
       " 'zmq.eventloop.zmqstream',\n",
       " 'jupyter_client.jsonutil',\n",
       " 'dateutil',\n",
       " 'dateutil.parser',\n",
       " 'dateutil.relativedelta',\n",
       " 'dateutil._common',\n",
       " 'dateutil.tz',\n",
       " 'dateutil.tz.tz',\n",
       " 'dateutil.tz._common',\n",
       " 'dateutil.tz.win',\n",
       " '_strptime',\n",
       " 'jupyter_client.adapter',\n",
       " 'jupyter_client.managerabc',\n",
       " 'jupyter_client.blocking',\n",
       " 'jupyter_client.blocking.client',\n",
       " 'jupyter_client.blocking.channels',\n",
       " 'jupyter_client.multikernelmanager',\n",
       " 'uuid',\n",
       " 'ctypes.util',\n",
       " 'ipykernel.kernelapp',\n",
       " 'ipykernel.iostream',\n",
       " 'ipykernel.heartbeat',\n",
       " 'ipykernel.ipkernel',\n",
       " 'IPython.utils.tokenutil',\n",
       " 'ipykernel.comm',\n",
       " 'ipykernel.comm.manager',\n",
       " 'ipykernel.comm.comm',\n",
       " 'ipykernel.kernelbase',\n",
       " 'ipykernel.jsonutil',\n",
       " 'ipykernel.zmqshell',\n",
       " 'IPython.core.payloadpage',\n",
       " 'IPython.display',\n",
       " 'IPython.lib.display',\n",
       " 'ipykernel.displayhook',\n",
       " 'ipykernel.parentpoller',\n",
       " 'faulthandler',\n",
       " 'ipykernel.datapub',\n",
       " 'ipykernel.serialize',\n",
       " 'ipykernel.pickleutil',\n",
       " 'ipykernel.codeutil',\n",
       " 'IPython.lib.deepreload',\n",
       " 'IPython.core.completerlib',\n",
       " 'storemagic',\n",
       " 'ipywidgets',\n",
       " 'ipywidgets._version',\n",
       " 'ipywidgets.widgets',\n",
       " 'ipywidgets.widgets.widget',\n",
       " 'ipywidgets.widgets.domwidget',\n",
       " 'ipywidgets.widgets.trait_types',\n",
       " 'ipywidgets.widgets.widget_layout',\n",
       " 'ipywidgets.widgets.widget_core',\n",
       " 'ipywidgets.widgets.valuewidget',\n",
       " 'ipywidgets.widgets.widget_bool',\n",
       " 'ipywidgets.widgets.widget_button',\n",
       " 'ipywidgets.widgets.widget_style',\n",
       " 'ipywidgets.widgets.widget_box',\n",
       " 'ipywidgets.widgets.widget_float',\n",
       " 'ipywidgets.widgets.widget_image',\n",
       " 'ipywidgets.widgets.widget_int',\n",
       " 'ipywidgets.widgets.widget_color',\n",
       " 'ipywidgets.widgets.widget_date',\n",
       " 'ipywidgets.widgets.widget_output',\n",
       " 'ipywidgets.widgets.widget_selection',\n",
       " 'ipywidgets.widgets.widget_selectioncontainer',\n",
       " 'ipywidgets.widgets.widget_string',\n",
       " 'ipywidgets.widgets.widget_controller',\n",
       " 'ipywidgets.widgets.interaction',\n",
       " 'ipywidgets.widgets.widget_link']"
      ]
     },
     "execution_count": 16,
     "metadata": {},
     "output_type": "execute_result"
    }
   ],
   "source": [
    "list(sys.modules.keys())"
   ]
  },
  {
   "cell_type": "code",
   "execution_count": 17,
   "metadata": {},
   "outputs": [
    {
     "data": {
      "text/plain": [
       "<module 'sys' (built-in)>"
      ]
     },
     "execution_count": 17,
     "metadata": {},
     "output_type": "execute_result"
    }
   ],
   "source": [
    "sys.modules['sys']"
   ]
  },
  {
   "cell_type": "code",
   "execution_count": 18,
   "metadata": {},
   "outputs": [
    {
     "data": {
      "text/plain": [
       "('_ast',\n",
       " '_bisect',\n",
       " '_blake2',\n",
       " '_codecs',\n",
       " '_codecs_cn',\n",
       " '_codecs_hk',\n",
       " '_codecs_iso2022',\n",
       " '_codecs_jp',\n",
       " '_codecs_kr',\n",
       " '_codecs_tw',\n",
       " '_collections',\n",
       " '_csv',\n",
       " '_datetime',\n",
       " '_functools',\n",
       " '_heapq',\n",
       " '_imp',\n",
       " '_io',\n",
       " '_json',\n",
       " '_locale',\n",
       " '_lsprof',\n",
       " '_md5',\n",
       " '_multibytecodec',\n",
       " '_opcode',\n",
       " '_operator',\n",
       " '_pickle',\n",
       " '_random',\n",
       " '_sha1',\n",
       " '_sha256',\n",
       " '_sha3',\n",
       " '_sha512',\n",
       " '_signal',\n",
       " '_sre',\n",
       " '_stat',\n",
       " '_string',\n",
       " '_struct',\n",
       " '_symtable',\n",
       " '_thread',\n",
       " '_tracemalloc',\n",
       " '_warnings',\n",
       " '_weakref',\n",
       " '_winapi',\n",
       " 'array',\n",
       " 'atexit',\n",
       " 'audioop',\n",
       " 'binascii',\n",
       " 'builtins',\n",
       " 'cmath',\n",
       " 'errno',\n",
       " 'faulthandler',\n",
       " 'gc',\n",
       " 'itertools',\n",
       " 'marshal',\n",
       " 'math',\n",
       " 'mmap',\n",
       " 'msvcrt',\n",
       " 'nt',\n",
       " 'parser',\n",
       " 'sys',\n",
       " 'time',\n",
       " 'winreg',\n",
       " 'xxsubtype',\n",
       " 'zipimport',\n",
       " 'zlib')"
      ]
     },
     "execution_count": 18,
     "metadata": {},
     "output_type": "execute_result"
    }
   ],
   "source": [
    "sys.builtin_module_names"
   ]
  },
  {
   "cell_type": "code",
   "execution_count": 21,
   "metadata": {},
   "outputs": [
    {
     "name": "stdout",
     "output_type": "stream",
     "text": [
      "builtins \t\t=> <module 'builtins' (built-in)>\n",
      "sys \t\t=> <module 'sys' (built-in)>\n",
      "_frozen_importlib \t\t=> <module 'importlib._bootstrap' (frozen)>\n",
      "_imp \t\t=> <module '_imp' (built-in)>\n",
      "_warnings \t\t=> <module '_warnings' (built-in)>\n",
      "_thread \t\t=> <module '_thread' (built-in)>\n",
      "_weakref \t\t=> <module '_weakref' (built-in)>\n",
      "_frozen_importlib_external \t\t=> <module 'importlib._bootstrap_external' (frozen)>\n",
      "_io \t\t=> <module 'io' (built-in)>\n",
      "marshal \t\t=> <module 'marshal' (built-in)>\n",
      "nt \t\t=> <module 'nt' (built-in)>\n",
      "winreg \t\t=> <module 'winreg' (built-in)>\n",
      "zipimport \t\t=> <module 'zipimport' (built-in)>\n",
      "encodings \t\t=> <module 'encodings' from 'C:\\\\Users\\\\dell\\\\Anaconda3\\\\lib\\\\encodings\\\\__init__.py'>\n",
      "codecs \t\t=> <module 'codecs' from 'C:\\\\Users\\\\dell\\\\Anaconda3\\\\lib\\\\codecs.py'>\n",
      "_codecs \t\t=> <module '_codecs' (built-in)>\n",
      "encodings.aliases \t\t=> <module 'encodings.aliases' from 'C:\\\\Users\\\\dell\\\\Anaconda3\\\\lib\\\\encodings\\\\aliases.py'>\n",
      "encodings.utf_8 \t\t=> <module 'encodings.utf_8' from 'C:\\\\Users\\\\dell\\\\Anaconda3\\\\lib\\\\encodings\\\\utf_8.py'>\n",
      "_signal \t\t=> <module '_signal' (built-in)>\n",
      "__main__ \t\t=> <module '__main__'>\n"
     ]
    }
   ],
   "source": [
    "cnt = 0\n",
    "for key, value in sys.modules.items():\n",
    "    cnt += 1\n",
    "    if cnt <= 20:\n",
    "        print(key, '\\t\\t=>', value)"
   ]
  },
  {
   "cell_type": "code",
   "execution_count": 25,
   "metadata": {},
   "outputs": [
    {
     "name": "stdout",
     "output_type": "stream",
     "text": [
      "Help on built-in module sys:\n",
      "\n",
      "NAME\n",
      "    sys\n",
      "\n",
      "MODULE REFERENCE\n",
      "    https://docs.python.org/3.6/library/sys\n",
      "    \n",
      "    The following documentation is automatically generated from the Python\n",
      "    source files.  It may be incomplete, incorrect or include features that\n",
      "    are considered implementation detail and may vary between Python\n",
      "    implementations.  When in doubt, consult the module reference at the\n",
      "    location listed above.\n",
      "\n",
      "DESCRIPTION\n",
      "    This module provides access to some objects used or maintained by the\n",
      "    interpreter and to functions that interact strongly with the interpreter.\n",
      "    \n",
      "    Dynamic objects:\n",
      "    \n",
      "    argv -- command line arguments; argv[0] is the script pathname if known\n",
      "    path -- module search path; path[0] is the script directory, else ''\n",
      "    modules -- dictionary of loaded modules\n",
      "    \n",
      "    displayhook -- called to show results in an interactive session\n",
      "    excepthook -- called to handle any uncaught exception other than SystemExit\n",
      "      To customize printing in an interactive session or to install a custom\n",
      "      top-level exception handler, assign other functions to replace these.\n",
      "    \n",
      "    stdin -- standard input file object; used by input()\n",
      "    stdout -- standard output file object; used by print()\n",
      "    stderr -- standard error object; used for error messages\n",
      "      By assigning other file objects (or objects that behave like files)\n",
      "      to these, it is possible to redirect all of the interpreter's I/O.\n",
      "    \n",
      "    last_type -- type of last uncaught exception\n",
      "    last_value -- value of last uncaught exception\n",
      "    last_traceback -- traceback of last uncaught exception\n",
      "      These three are only available in an interactive session after a\n",
      "      traceback has been printed.\n",
      "    \n",
      "    Static objects:\n",
      "    \n",
      "    builtin_module_names -- tuple of module names built into this interpreter\n",
      "    copyright -- copyright notice pertaining to this interpreter\n",
      "    exec_prefix -- prefix used to find the machine-specific Python library\n",
      "    executable -- absolute path of the executable binary of the Python interpreter\n",
      "    float_info -- a struct sequence with information about the float implementation.\n",
      "    float_repr_style -- string indicating the style of repr() output for floats\n",
      "    hash_info -- a struct sequence with information about the hash algorithm.\n",
      "    hexversion -- version information encoded as a single integer\n",
      "    implementation -- Python implementation information.\n",
      "    int_info -- a struct sequence with information about the int implementation.\n",
      "    maxsize -- the largest supported length of containers.\n",
      "    maxunicode -- the value of the largest Unicode code point\n",
      "    platform -- platform identifier\n",
      "    prefix -- prefix used to find the Python library\n",
      "    thread_info -- a struct sequence with information about the thread implementation.\n",
      "    version -- the version of this interpreter as a string\n",
      "    version_info -- version information as a named tuple\n",
      "    dllhandle -- [Windows only] integer handle of the Python DLL\n",
      "    winver -- [Windows only] version number of the Python DLL\n",
      "    _enablelegacywindowsfsencoding -- [Windows only] \n",
      "    __stdin__ -- the original stdin; don't touch!\n",
      "    __stdout__ -- the original stdout; don't touch!\n",
      "    __stderr__ -- the original stderr; don't touch!\n",
      "    __displayhook__ -- the original displayhook; don't touch!\n",
      "    __excepthook__ -- the original excepthook; don't touch!\n",
      "    \n",
      "    Functions:\n",
      "    \n",
      "    displayhook() -- print an object to the screen, and save it in builtins._\n",
      "    excepthook() -- print an exception and its traceback to sys.stderr\n",
      "    exc_info() -- return thread-safe information about the current exception\n",
      "    exit() -- exit the interpreter by raising SystemExit\n",
      "    getdlopenflags() -- returns flags to be used for dlopen() calls\n",
      "    getprofile() -- get the global profiling function\n",
      "    getrefcount() -- return the reference count for an object (plus one :-)\n",
      "    getrecursionlimit() -- return the max recursion depth for the interpreter\n",
      "    getsizeof() -- return the size of an object in bytes\n",
      "    gettrace() -- get the global debug tracing function\n",
      "    setcheckinterval() -- control how often the interpreter checks for events\n",
      "    setdlopenflags() -- set the flags to be used for dlopen() calls\n",
      "    setprofile() -- set the global profiling function\n",
      "    setrecursionlimit() -- set the max recursion depth for the interpreter\n",
      "    settrace() -- set the global debug tracing function\n",
      "\n",
      "FUNCTIONS\n",
      "    __displayhook__ = displayhook(...)\n",
      "        displayhook(object) -> None\n",
      "        \n",
      "        Print an object to sys.stdout and also save it in builtins._\n",
      "    \n",
      "    __excepthook__ = excepthook(...)\n",
      "        excepthook(exctype, value, traceback) -> None\n",
      "        \n",
      "        Handle an exception by displaying it with a traceback on sys.stderr.\n",
      "    \n",
      "    call_tracing(...)\n",
      "        call_tracing(func, args) -> object\n",
      "        \n",
      "        Call func(*args), while tracing is enabled.  The tracing state is\n",
      "        saved, and restored afterwards.  This is intended to be called from\n",
      "        a debugger from a checkpoint, to recursively debug some other code.\n",
      "    \n",
      "    callstats(...)\n",
      "        callstats() -> tuple of integers\n",
      "        \n",
      "        Return a tuple of function call statistics, if CALL_PROFILE was defined\n",
      "        when Python was built.  Otherwise, return None.\n",
      "        \n",
      "        When enabled, this function returns detailed, implementation-specific\n",
      "        details about the number of function calls executed. The return value is\n",
      "        a 11-tuple where the entries in the tuple are counts of:\n",
      "        0. all function calls\n",
      "        1. calls to PyFunction_Type objects\n",
      "        2. PyFunction calls that do not create an argument tuple\n",
      "        3. PyFunction calls that do not create an argument tuple\n",
      "           and bypass PyEval_EvalCodeEx()\n",
      "        4. PyMethod calls\n",
      "        5. PyMethod calls on bound methods\n",
      "        6. PyType calls\n",
      "        7. PyCFunction calls\n",
      "        8. generator calls\n",
      "        9. All other calls\n",
      "        10. Number of stack pops performed by call_function()\n",
      "    \n",
      "    exc_info(...)\n",
      "        exc_info() -> (type, value, traceback)\n",
      "        \n",
      "        Return information about the most recent exception caught by an except\n",
      "        clause in the current stack frame or in an older stack frame.\n",
      "    \n",
      "    exit(...)\n",
      "        exit([status])\n",
      "        \n",
      "        Exit the interpreter by raising SystemExit(status).\n",
      "        If the status is omitted or None, it defaults to zero (i.e., success).\n",
      "        If the status is an integer, it will be used as the system exit status.\n",
      "        If it is another kind of object, it will be printed and the system\n",
      "        exit status will be one (i.e., failure).\n",
      "    \n",
      "    get_asyncgen_hooks(...)\n",
      "        get_asyncgen_hooks()\n",
      "        \n",
      "        Return a namedtuple of installed asynchronous generators hooks (firstiter, finalizer).\n",
      "    \n",
      "    get_coroutine_wrapper(...)\n",
      "        get_coroutine_wrapper()\n",
      "        \n",
      "        Return the wrapper for coroutine objects set by sys.set_coroutine_wrapper.\n",
      "    \n",
      "    getallocatedblocks(...)\n",
      "        getallocatedblocks() -> integer\n",
      "        \n",
      "        Return the number of memory blocks currently allocated, regardless of their\n",
      "        size.\n",
      "    \n",
      "    getcheckinterval(...)\n",
      "        getcheckinterval() -> current check interval; see setcheckinterval().\n",
      "    \n",
      "    getdefaultencoding(...)\n",
      "        getdefaultencoding() -> string\n",
      "        \n",
      "        Return the current default string encoding used by the Unicode \n",
      "        implementation.\n",
      "    \n",
      "    getfilesystemencodeerrors(...)\n",
      "        getfilesystemencodeerrors() -> string\n",
      "        \n",
      "        Return the error mode used to convert Unicode filenames in\n",
      "        operating system filenames.\n",
      "    \n",
      "    getfilesystemencoding(...)\n",
      "        getfilesystemencoding() -> string\n",
      "        \n",
      "        Return the encoding used to convert Unicode filenames in\n",
      "        operating system filenames.\n",
      "    \n",
      "    getprofile(...)\n",
      "        getprofile()\n",
      "        \n",
      "        Return the profiling function set with sys.setprofile.\n",
      "        See the profiler chapter in the library manual.\n",
      "    \n",
      "    getrecursionlimit(...)\n",
      "        getrecursionlimit()\n",
      "        \n",
      "        Return the current value of the recursion limit, the maximum depth\n",
      "        of the Python interpreter stack.  This limit prevents infinite\n",
      "        recursion from causing an overflow of the C stack and crashing Python.\n",
      "    \n",
      "    getrefcount(...)\n",
      "        getrefcount(object) -> integer\n",
      "        \n",
      "        Return the reference count of object.  The count returned is generally\n",
      "        one higher than you might expect, because it includes the (temporary)\n",
      "        reference as an argument to getrefcount().\n",
      "    \n",
      "    getsizeof(...)\n",
      "        getsizeof(object, default) -> int\n",
      "        \n",
      "        Return the size of object in bytes.\n",
      "    \n",
      "    getswitchinterval(...)\n",
      "        getswitchinterval() -> current thread switch interval; see setswitchinterval().\n",
      "    \n",
      "    gettrace(...)\n",
      "        gettrace()\n",
      "        \n",
      "        Return the global debug tracing function set with sys.settrace.\n",
      "        See the debugger chapter in the library manual.\n",
      "    \n",
      "    getwindowsversion(...)\n",
      "        getwindowsversion()\n",
      "        \n",
      "        Return information about the running version of Windows as a named tuple.\n",
      "        The members are named: major, minor, build, platform, service_pack,\n",
      "        service_pack_major, service_pack_minor, suite_mask, and product_type. For\n",
      "        backward compatibility, only the first 5 items are available by indexing.\n",
      "        All elements are numbers, except service_pack and platform_type which are\n",
      "        strings, and platform_version which is a 3-tuple. Platform is always 2.\n",
      "        Product_type may be 1 for a workstation, 2 for a domain controller, 3 for a\n",
      "        server. Platform_version is a 3-tuple containing a version number that is\n",
      "        intended for identifying the OS rather than feature detection.\n",
      "    \n",
      "    intern(...)\n",
      "        intern(string) -> string\n",
      "        \n",
      "        ``Intern'' the given string.  This enters the string in the (global)\n",
      "        table of interned strings whose purpose is to speed up dictionary lookups.\n",
      "        Return the string itself or the previously interned string object with the\n",
      "        same value.\n",
      "    \n",
      "    is_finalizing(...)\n",
      "        is_finalizing()\n",
      "        Return True if Python is exiting.\n",
      "    \n",
      "    set_asyncgen_hooks(...)\n",
      "        set_asyncgen_hooks(*, firstiter=None, finalizer=None)\n",
      "        \n",
      "        Set a finalizer for async generators objects.\n",
      "    \n",
      "    set_coroutine_wrapper(...)\n",
      "        set_coroutine_wrapper(wrapper)\n",
      "        \n",
      "        Set a wrapper for coroutine objects.\n",
      "    \n",
      "    setcheckinterval(...)\n",
      "        setcheckinterval(n)\n",
      "        \n",
      "        Tell the Python interpreter to check for asynchronous events every\n",
      "        n instructions.  This also affects how often thread switches occur.\n",
      "    \n",
      "    setprofile(...)\n",
      "        setprofile(function)\n",
      "        \n",
      "        Set the profiling function.  It will be called on each function call\n",
      "        and return.  See the profiler chapter in the library manual.\n",
      "    \n",
      "    setrecursionlimit(...)\n",
      "        setrecursionlimit(n)\n",
      "        \n",
      "        Set the maximum depth of the Python interpreter stack to n.  This\n",
      "        limit prevents infinite recursion from causing an overflow of the C\n",
      "        stack and crashing Python.  The highest possible limit is platform-\n",
      "        dependent.\n",
      "    \n",
      "    setswitchinterval(...)\n",
      "        setswitchinterval(n)\n",
      "        \n",
      "        Set the ideal thread switching delay inside the Python interpreter\n",
      "        The actual frequency of switching threads can be lower if the\n",
      "        interpreter executes long sequences of uninterruptible code\n",
      "        (this is implementation-specific and workload-dependent).\n",
      "        \n",
      "        The parameter must represent the desired switching delay in seconds\n",
      "        A typical value is 0.005 (5 milliseconds).\n",
      "    \n",
      "    settrace(...)\n",
      "        settrace(function)\n",
      "        \n",
      "        Set the global debug tracing function.  It will be called on each\n",
      "        function call.  See the debugger chapter in the library manual.\n",
      "\n",
      "DATA\n",
      "    __stderr__ = <_io.TextIOWrapper name='<stderr>' mode='w' encoding='utf...\n",
      "    __stdin__ = <_io.TextIOWrapper name='<stdin>' mode='r' encoding='cp936...\n",
      "    __stdout__ = <_io.TextIOWrapper name='<stdout>' mode='w' encoding='utf...\n",
      "    api_version = 1013\n",
      "    argv = [r'C:\\Users\\dell\\Anaconda3\\lib\\site-packages\\ipykernel\\__main__...\n",
      "    base_exec_prefix = r'C:\\Users\\dell\\Anaconda3'\n",
      "    base_prefix = r'C:\\Users\\dell\\Anaconda3'\n",
      "    builtin_module_names = ('_ast', '_bisect', '_blake2', '_codecs', '_cod...\n",
      "    byteorder = 'little'\n",
      "    copyright = 'Copyright (c) 2001-2017 Python Software Foundati...ematis...\n",
      "    displayhook = <ipykernel.displayhook.ZMQShellDisplayHook object>\n",
      "    dllhandle = 1967128576\n",
      "    dont_write_bytecode = False\n",
      "    exec_prefix = r'C:\\Users\\dell\\Anaconda3'\n",
      "    executable = r'C:\\Users\\dell\\Anaconda3\\python.exe'\n",
      "    flags = sys.flags(debug=0, inspect=0, interactive=0, opt...ing=0, quie...\n",
      "    float_info = sys.float_info(max=1.7976931348623157e+308, max_...epsilo...\n",
      "    float_repr_style = 'short'\n",
      "    hash_info = sys.hash_info(width=64, modulus=2305843009213693...iphash2...\n",
      "    hexversion = 50725360\n",
      "    implementation = namespace(cache_tag='cpython-36', hexversion=507...in...\n",
      "    int_info = sys.int_info(bits_per_digit=30, sizeof_digit=4)\n",
      "    last_value = TypeError(\"'dict_items' object is not subscriptable\",)\n",
      "    maxsize = 9223372036854775807\n",
      "    maxunicode = 1114111\n",
      "    meta_path = [<class '_frozen_importlib.BuiltinImporter'>, <class '_fro...\n",
      "    modules = {'IPython': <module 'IPython' from 'C:\\\\Users\\\\dell\\\\Anacond...\n",
      "    path = ['', r'C:\\Users\\dell\\Anaconda3\\python36.zip', r'C:\\Users\\dell\\A...\n",
      "    path_hooks = [<class 'zipimport.zipimporter'>, <function FileFinder.pa...\n",
      "    path_importer_cache = {'': FileFinder('.'), r'C:\\Users\\dell\\.ipython':...\n",
      "    platform = 'win32'\n",
      "    prefix = r'C:\\Users\\dell\\Anaconda3'\n",
      "    ps1 = 'In : '\n",
      "    ps2 = '...: '\n",
      "    ps3 = 'Out: '\n",
      "    stderr = <ipykernel.iostream.OutStream object>\n",
      "    stdin = <_io.TextIOWrapper name='<stdin>' mode='r' encoding='cp936'>\n",
      "    stdout = <ipykernel.iostream.OutStream object>\n",
      "    thread_info = sys.thread_info(name='nt', lock=None, version=None)\n",
      "    version = '3.6.1 |Anaconda custom (64-bit)| (default, May 11 2017, 13:...\n",
      "    version_info = sys.version_info(major=3, minor=6, micro=1, releaseleve...\n",
      "    warnoptions = []\n",
      "    winver = '3.6'\n",
      "\n",
      "FILE\n",
      "    (built-in)\n",
      "\n",
      "\n"
     ]
    }
   ],
   "source": [
    "help(sys)"
   ]
  },
  {
   "cell_type": "code",
   "execution_count": 24,
   "metadata": {},
   "outputs": [
    {
     "data": {
      "text/plain": [
       "<ipykernel.displayhook.ZMQShellDisplayHook at 0x1a9552033c8>"
      ]
     },
     "execution_count": 24,
     "metadata": {},
     "output_type": "execute_result"
    }
   ],
   "source": [
    "sys.displayhook"
   ]
  },
  {
   "cell_type": "code",
   "execution_count": 29,
   "metadata": {},
   "outputs": [
    {
     "name": "stdout",
     "output_type": "stream",
     "text": [
      "['aac', 'cbb', 'dd']\n",
      "['aac', 'cbb', 'dd', ''] ['aac', 'cbb', 'dd']\n"
     ]
    }
   ],
   "source": [
    "line = 'aac\\ncbb\\ndd\\n'\n",
    "print(line.splitlines())\n",
    "print(line.split('\\n'), line.split()) # 实践出真知！"
   ]
  },
  {
   "cell_type": "code",
   "execution_count": 20,
   "metadata": {},
   "outputs": [
    {
     "name": "stdout",
     "output_type": "stream",
     "text": [
      "(<class 'IndexError'>, IndexError(), <traceback object at 0x00000293DD68AAC8>)\n"
     ]
    }
   ],
   "source": [
    "try:\n",
    "    raise IndexError\n",
    "except:\n",
    "    print(sys.exc_info())"
   ]
  },
  {
   "cell_type": "code",
   "execution_count": 22,
   "metadata": {},
   "outputs": [
    {
     "name": "stdout",
     "output_type": "stream",
     "text": [
      "<class 'TypeError'>\n",
      "already get one\n"
     ]
    },
    {
     "name": "stderr",
     "output_type": "stream",
     "text": [
      "  File \"<ipython-input-22-7ed08aadee12>\", line 6, in <module>\n",
      "    grail('arthur')\n",
      "  File \"<ipython-input-22-7ed08aadee12>\", line 3, in grail\n",
      "    raise TypeError(\"already get one\")\n"
     ]
    }
   ],
   "source": [
    "import traceback\n",
    "def grail(x):\n",
    "    raise TypeError(\"already get one\")\n",
    "    \n",
    "try:\n",
    "    grail('arthur')\n",
    "except:\n",
    "    exc_info = sys.exc_info()\n",
    "    print(exc_info[0])\n",
    "    print(exc_info[1])\n",
    "    traceback.print_tb(exc_info[2])"
   ]
  },
  {
   "cell_type": "markdown",
   "metadata": {
    "collapsed": true
   },
   "source": [
    "## 介绍os模块"
   ]
  },
  {
   "cell_type": "code",
   "execution_count": 28,
   "metadata": {
    "scrolled": false
   },
   "outputs": [
    {
     "data": {
      "text/plain": [
       "['DirEntry',\n",
       " 'F_OK',\n",
       " 'MutableMapping',\n",
       " 'O_APPEND',\n",
       " 'O_BINARY',\n",
       " 'O_CREAT',\n",
       " 'O_EXCL',\n",
       " 'O_NOINHERIT',\n",
       " 'O_RANDOM',\n",
       " 'O_RDONLY',\n",
       " 'O_RDWR',\n",
       " 'O_SEQUENTIAL',\n",
       " 'O_SHORT_LIVED',\n",
       " 'O_TEMPORARY',\n",
       " 'O_TEXT',\n",
       " 'O_TRUNC',\n",
       " 'O_WRONLY',\n",
       " 'P_DETACH',\n",
       " 'P_NOWAIT',\n",
       " 'P_NOWAITO',\n",
       " 'P_OVERLAY',\n",
       " 'P_WAIT',\n",
       " 'PathLike',\n",
       " 'R_OK',\n",
       " 'SEEK_CUR',\n",
       " 'SEEK_END',\n",
       " 'SEEK_SET',\n",
       " 'TMP_MAX',\n",
       " 'W_OK',\n",
       " 'X_OK',\n",
       " '_Environ',\n",
       " '__all__',\n",
       " '__builtins__',\n",
       " '__cached__',\n",
       " '__doc__',\n",
       " '__file__',\n",
       " '__loader__',\n",
       " '__name__',\n",
       " '__package__',\n",
       " '__spec__',\n",
       " '_execvpe',\n",
       " '_exists',\n",
       " '_exit',\n",
       " '_fspath',\n",
       " '_get_exports_list',\n",
       " '_putenv',\n",
       " '_unsetenv',\n",
       " '_wrap_close',\n",
       " 'abc',\n",
       " 'abort',\n",
       " 'access',\n",
       " 'altsep',\n",
       " 'chdir',\n",
       " 'chmod',\n",
       " 'close',\n",
       " 'closerange',\n",
       " 'cpu_count',\n",
       " 'curdir',\n",
       " 'defpath',\n",
       " 'device_encoding',\n",
       " 'devnull',\n",
       " 'dup',\n",
       " 'dup2',\n",
       " 'environ',\n",
       " 'errno',\n",
       " 'error',\n",
       " 'execl',\n",
       " 'execle',\n",
       " 'execlp',\n",
       " 'execlpe',\n",
       " 'execv',\n",
       " 'execve',\n",
       " 'execvp',\n",
       " 'execvpe',\n",
       " 'extsep',\n",
       " 'fdopen',\n",
       " 'fsdecode',\n",
       " 'fsencode',\n",
       " 'fspath',\n",
       " 'fstat',\n",
       " 'fsync',\n",
       " 'ftruncate',\n",
       " 'get_exec_path',\n",
       " 'get_handle_inheritable',\n",
       " 'get_inheritable',\n",
       " 'get_terminal_size',\n",
       " 'getcwd',\n",
       " 'getcwdb',\n",
       " 'getenv',\n",
       " 'getlogin',\n",
       " 'getpid',\n",
       " 'getppid',\n",
       " 'isatty',\n",
       " 'kill',\n",
       " 'linesep',\n",
       " 'link',\n",
       " 'listdir',\n",
       " 'lseek',\n",
       " 'lstat',\n",
       " 'makedirs',\n",
       " 'mkdir',\n",
       " 'name',\n",
       " 'open',\n",
       " 'pardir',\n",
       " 'path',\n",
       " 'pathsep',\n",
       " 'pipe',\n",
       " 'popen',\n",
       " 'putenv',\n",
       " 'read',\n",
       " 'readlink',\n",
       " 'remove',\n",
       " 'removedirs',\n",
       " 'rename',\n",
       " 'renames',\n",
       " 'replace',\n",
       " 'rmdir',\n",
       " 'scandir',\n",
       " 'sep',\n",
       " 'set_handle_inheritable',\n",
       " 'set_inheritable',\n",
       " 'spawnl',\n",
       " 'spawnle',\n",
       " 'spawnv',\n",
       " 'spawnve',\n",
       " 'st',\n",
       " 'startfile',\n",
       " 'stat',\n",
       " 'stat_float_times',\n",
       " 'stat_result',\n",
       " 'statvfs_result',\n",
       " 'strerror',\n",
       " 'supports_bytes_environ',\n",
       " 'supports_dir_fd',\n",
       " 'supports_effective_ids',\n",
       " 'supports_fd',\n",
       " 'supports_follow_symlinks',\n",
       " 'symlink',\n",
       " 'sys',\n",
       " 'system',\n",
       " 'terminal_size',\n",
       " 'times',\n",
       " 'times_result',\n",
       " 'truncate',\n",
       " 'umask',\n",
       " 'uname_result',\n",
       " 'unlink',\n",
       " 'urandom',\n",
       " 'utime',\n",
       " 'waitpid',\n",
       " 'walk',\n",
       " 'write']"
      ]
     },
     "execution_count": 28,
     "metadata": {},
     "output_type": "execute_result"
    }
   ],
   "source": [
    "import os\n",
    "dir(os)"
   ]
  },
  {
   "cell_type": "code",
   "execution_count": 25,
   "metadata": {},
   "outputs": [
    {
     "data": {
      "text/plain": [
       "['__all__',\n",
       " '__builtins__',\n",
       " '__cached__',\n",
       " '__doc__',\n",
       " '__file__',\n",
       " '__loader__',\n",
       " '__name__',\n",
       " '__package__',\n",
       " '__spec__',\n",
       " '_get_bothseps',\n",
       " '_getfinalpathname',\n",
       " '_getfullpathname',\n",
       " '_getvolumepathname',\n",
       " 'abspath',\n",
       " 'altsep',\n",
       " 'basename',\n",
       " 'commonpath',\n",
       " 'commonprefix',\n",
       " 'curdir',\n",
       " 'defpath',\n",
       " 'devnull',\n",
       " 'dirname',\n",
       " 'exists',\n",
       " 'expanduser',\n",
       " 'expandvars',\n",
       " 'extsep',\n",
       " 'genericpath',\n",
       " 'getatime',\n",
       " 'getctime',\n",
       " 'getmtime',\n",
       " 'getsize',\n",
       " 'isabs',\n",
       " 'isdir',\n",
       " 'isfile',\n",
       " 'islink',\n",
       " 'ismount',\n",
       " 'join',\n",
       " 'lexists',\n",
       " 'normcase',\n",
       " 'normpath',\n",
       " 'os',\n",
       " 'pardir',\n",
       " 'pathsep',\n",
       " 'realpath',\n",
       " 'relpath',\n",
       " 'samefile',\n",
       " 'sameopenfile',\n",
       " 'samestat',\n",
       " 'sep',\n",
       " 'split',\n",
       " 'splitdrive',\n",
       " 'splitext',\n",
       " 'splitunc',\n",
       " 'stat',\n",
       " 'supports_unicode_filenames',\n",
       " 'sys']"
      ]
     },
     "execution_count": 25,
     "metadata": {},
     "output_type": "execute_result"
    }
   ],
   "source": [
    "dir(os.path)"
   ]
  },
  {
   "cell_type": "code",
   "execution_count": 29,
   "metadata": {},
   "outputs": [
    {
     "data": {
      "text/plain": [
       "4404"
      ]
     },
     "execution_count": 29,
     "metadata": {},
     "output_type": "execute_result"
    }
   ],
   "source": [
    "os.getpid() # 返回调用函数的进程的ID，唯一标识符"
   ]
  },
  {
   "cell_type": "code",
   "execution_count": 32,
   "metadata": {},
   "outputs": [
    {
     "name": "stdout",
     "output_type": "stream",
     "text": [
      "C:\\Users\\dell\\demo\\Untitled Folder 1\n",
      "('C:\\\\Users\\\\dell\\\\demo', 'Untitled Folder 1')\n"
     ]
    }
   ],
   "source": [
    "print(os.getcwd()) # 返回当前工作目录\n",
    "print(os.path.split(os.getcwd())) # 将目录分割为路径和文件夹名称"
   ]
  },
  {
   "cell_type": "code",
   "execution_count": 36,
   "metadata": {},
   "outputs": [
    {
     "name": "stdout",
     "output_type": "stream",
     "text": [
      "C:\\Users\n"
     ]
    }
   ],
   "source": [
    "os.chdir('C:\\\\Users') # 在别的工作目录中运行程序\n",
    "print(os.getcwd()) \n",
    "os.chdir(r'C:\\Users\\dell\\demo\\Untitled Folder 1')"
   ]
  },
  {
   "cell_type": "code",
   "execution_count": 41,
   "metadata": {},
   "outputs": [
    {
     "data": {
      "text/plain": [
       "('\\\\', ';', '\\r\\n')"
      ]
     },
     "execution_count": 41,
     "metadata": {},
     "output_type": "execute_result"
    }
   ],
   "source": [
    "# 运行平台目录组分隔符号；目录列表中分隔目录的字符； 换行符\n",
    "os.sep, os.pathsep, os.linesep "
   ]
  },
  {
   "cell_type": "code",
   "execution_count": 42,
   "metadata": {},
   "outputs": [
    {
     "data": {
      "text/plain": [
       "['.ipynb_checkpoints', 'Programming_Python.ipynb']"
      ]
     },
     "execution_count": 42,
     "metadata": {},
     "output_type": "execute_result"
    }
   ],
   "source": [
    "os.listdir()"
   ]
  },
  {
   "cell_type": "markdown",
   "metadata": {},
   "source": [
    "### 常见os.path工具"
   ]
  },
  {
   "cell_type": "code",
   "execution_count": 44,
   "metadata": {},
   "outputs": [
    {
     "data": {
      "text/plain": [
       "(True, False)"
      ]
     },
     "execution_count": 44,
     "metadata": {},
     "output_type": "execute_result"
    }
   ],
   "source": [
    "# 是否是文件夹  # 是否是文件\n",
    "os.path.isdir(\"C:\\\\Users\"), os.path.isfile(\"C:\\\\Users\")"
   ]
  },
  {
   "cell_type": "code",
   "execution_count": 45,
   "metadata": {},
   "outputs": [
    {
     "data": {
      "text/plain": [
       "True"
      ]
     },
     "execution_count": 45,
     "metadata": {},
     "output_type": "execute_result"
    }
   ],
   "source": [
    "# 是否存在\n",
    "os.path.exists('C:\\\\Users')"
   ]
  },
  {
   "cell_type": "code",
   "execution_count": 49,
   "metadata": {},
   "outputs": [
    {
     "data": {
      "text/plain": [
       "62340"
      ]
     },
     "execution_count": 49,
     "metadata": {},
     "output_type": "execute_result"
    }
   ],
   "source": [
    "# 文件大小\n",
    "os.path.getsize('./Programming_Python.ipynb') "
   ]
  },
  {
   "cell_type": "code",
   "execution_count": 50,
   "metadata": {},
   "outputs": [
    {
     "data": {
      "text/plain": [
       "('C:\\\\Users\\\\dell\\\\demo', 'Untitled Folder 1')"
      ]
     },
     "execution_count": 50,
     "metadata": {},
     "output_type": "execute_result"
    }
   ],
   "source": [
    "# 将文件名（或者是最后一个文件夹的名称）从它的目录路径中剥离出来\n",
    "os.path.split(r'C:\\Users\\dell\\demo\\Untitled Folder 1')"
   ]
  },
  {
   "cell_type": "code",
   "execution_count": 51,
   "metadata": {},
   "outputs": [
    {
     "data": {
      "text/plain": [
       "'C:\\\\Users\\\\dell\\\\demo\\\\Untitled Folder 1'"
      ]
     },
     "execution_count": 51,
     "metadata": {},
     "output_type": "execute_result"
    }
   ],
   "source": [
    "os.path.join('C:\\\\Users\\\\dell\\\\demo', 'Untitled Folder 1')"
   ]
  },
  {
   "cell_type": "code",
   "execution_count": 54,
   "metadata": {},
   "outputs": [
    {
     "data": {
      "text/plain": [
       "('C:\\\\Users\\\\dell\\\\demo\\\\Untitled Folder 1', 'Programming_Python.ipynb')"
      ]
     },
     "execution_count": 54,
     "metadata": {},
     "output_type": "execute_result"
    }
   ],
   "source": [
    "name = r'C:\\Users\\dell\\demo\\Untitled Folder 1\\Programming_Python.ipynb'\n",
    "# 返回os.path.split()的前两项\n",
    "os.path.dirname(name), os.path.basename(name)"
   ]
  },
  {
   "cell_type": "code",
   "execution_count": 55,
   "metadata": {},
   "outputs": [
    {
     "data": {
      "text/plain": [
       "('C:\\\\Users\\\\dell\\\\demo\\\\Untitled Folder 1\\\\Programming_Python', '.ipynb')"
      ]
     },
     "execution_count": 55,
     "metadata": {},
     "output_type": "execute_result"
    }
   ],
   "source": [
    "# 剥离文件的括展名\n",
    "os.path.splitext(name)"
   ]
  },
  {
   "cell_type": "code",
   "execution_count": 56,
   "metadata": {},
   "outputs": [
    {
     "data": {
      "text/plain": [
       "'C:\\\\Users\\\\dell\\\\demo\\\\Untitled Folder 1\\\\Programming_Python.ipynb'"
      ]
     },
     "execution_count": 56,
     "metadata": {},
     "output_type": "execute_result"
    }
   ],
   "source": [
    "mixed_name = r'C:\\Users\\dell\\demo\\Untitled Folder 1/Programming_Python.ipynb'\n",
    "# 恢复正常目录而非混用Unix和Windows分隔符\n",
    "os.path.normpath(mixed_name)"
   ]
  },
  {
   "cell_type": "code",
   "execution_count": 60,
   "metadata": {},
   "outputs": [
    {
     "name": "stdout",
     "output_type": "stream",
     "text": [
      "C:\\Users\n",
      "C:\\Users\n",
      "C:\\Users\\temp\n",
      "C:\\Users\\dell\\Desktop\n",
      "C:\\Users\n",
      "C:\\\n",
      "C:\\Users\\dell\\demo\n"
     ]
    }
   ],
   "source": [
    "os.chdir('C:\\\\Users') \n",
    "# 当前工作目录\n",
    "print(os.getcwd()) \n",
    " # 空字符串表示当前目录\n",
    "print(os.path.abspath(''))\n",
    "# 扩展为当前工作目录下的完整目录名\n",
    "print(os.path.abspath('temp'))\n",
    "# 这是相对于当前目录的不完整目录名\n",
    "print(os.path.abspath(r'dell\\Desktop')) \n",
    "\n",
    "# 扩展相对路径句法\n",
    "print(os.path.abspath('.')) \n",
    "print(os.path.abspath('..'))\n",
    "\n",
    "# 绝对路径不变\n",
    "print(os.path.abspath(r'C:\\\\Users\\dell\\demo')) \n",
    "os.chdir(r'C:\\Users\\dell\\demo\\Untitled Folder 1')"
   ]
  },
  {
   "cell_type": "markdown",
   "metadata": {},
   "source": [
    "### 在脚本里运行Shell命令"
   ]
  },
  {
   "cell_type": "code",
   "execution_count": 62,
   "metadata": {},
   "outputs": [
    {
     "data": {
      "text/plain": [
       "0"
      ]
     },
     "execution_count": 62,
     "metadata": {},
     "output_type": "execute_result"
    }
   ],
   "source": [
    "# 在Python脚本里运行shell命令\n",
    "os.system(\"dir /B\")"
   ]
  },
  {
   "cell_type": "code",
   "execution_count": 63,
   "metadata": {},
   "outputs": [
    {
     "data": {
      "text/plain": [
       "0"
      ]
     },
     "execution_count": 63,
     "metadata": {},
     "output_type": "execute_result"
    }
   ],
   "source": [
    "os.system(\"python\")"
   ]
  },
  {
   "cell_type": "code",
   "execution_count": 64,
   "metadata": {},
   "outputs": [
    {
     "data": {
      "text/plain": [
       "0"
      ]
     },
     "execution_count": 64,
     "metadata": {},
     "output_type": "execute_result"
    }
   ],
   "source": [
    "os.system(\"exit\")"
   ]
  },
  {
   "cell_type": "raw",
   "metadata": {
    "collapsed": true
   },
   "source": [
    ">>> import os\n",
    ">>> os.popen(r'type C:\\Users\\dell\\Desktop\\r.txt').read()\n",
    "'Hello world\\nI sex you'\n",
    "\n",
    ">>> os.popen(r'type C:\\Users\\dell\\Desktop\\r.txt').readlines()\n",
    "['Hello world\\n', 'I sex you']\n",
    "\n",
    ">>> os.popen(r'type C:\\Users\\dell\\Desktop\\r.txt', 'r').read()\n",
    "'Hello world\\nI sex you'"
   ]
  },
  {
   "cell_type": "raw",
   "metadata": {},
   "source": [
    ">>> import subprocess\n",
    "\n",
    ">>> subprocess.call(r'cmd /C \"type C:\\Users\\dell\\Desktop\\r.txt\"') # 内建shell命令\n",
    "Hello world\n",
    "I sex you\n",
    "0\n",
    "\n",
    ">>> subprocess.call(r'type C:\\Users\\dell\\Desktop\\r.txt', shell=True) # 相当于内建函数\n",
    "Hello world\n",
    "I sex you\n",
    "0"
   ]
  },
  {
   "cell_type": "code",
   "execution_count": 7,
   "metadata": {},
   "outputs": [
    {
     "name": "stderr",
     "output_type": "stream",
     "text": [
      "C:\\Users\\dell\\Anaconda3\\lib\\site-packages\\ipykernel\\__main__.py:2: DeprecationWarning: The Windows bytes API has been deprecated, use Unicode filenames instead\n",
      "  from ipykernel import kernelapp as app\n"
     ]
    },
    {
     "data": {
      "text/plain": [
       "bytes"
      ]
     },
     "execution_count": 7,
     "metadata": {},
     "output_type": "execute_result"
    }
   ],
   "source": [
    "import os\n",
    "type(os.getcwdb())"
   ]
  },
  {
   "cell_type": "code",
   "execution_count": null,
   "metadata": {
    "collapsed": true
   },
   "outputs": [],
   "source": []
  }
 ],
 "metadata": {
  "kernelspec": {
   "display_name": "Python [conda env:Anaconda3]",
   "language": "python",
   "name": "conda-env-Anaconda3-py"
  },
  "language_info": {
   "codemirror_mode": {
    "name": "ipython",
    "version": 3
   },
   "file_extension": ".py",
   "mimetype": "text/x-python",
   "name": "python",
   "nbconvert_exporter": "python",
   "pygments_lexer": "ipython3",
   "version": "3.6.1"
  }
 },
 "nbformat": 4,
 "nbformat_minor": 2
}
